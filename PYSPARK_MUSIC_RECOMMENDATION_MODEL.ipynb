{
 "cells": [
  {
   "cell_type": "code",
   "execution_count": 1,
   "id": "d17865ac-51bf-4b4f-abe2-4924721f6674",
   "metadata": {},
   "outputs": [
    {
     "name": "stdout",
     "output_type": "stream",
     "text": [
      "Collecting pyspark\n",
      "  Using cached pyspark-3.5.1-py2.py3-none-any.whl\n",
      "Collecting pymongo\n",
      "  Downloading pymongo-4.7.2-cp311-cp311-win_amd64.whl.metadata (22 kB)\n",
      "Requirement already satisfied: py4j==0.10.9.7 in d:\\anaconda\\lib\\site-packages (from pyspark) (0.10.9.7)\n",
      "Collecting dnspython<3.0.0,>=1.16.0 (from pymongo)\n",
      "  Using cached dnspython-2.6.1-py3-none-any.whl.metadata (5.8 kB)\n",
      "Downloading pymongo-4.7.2-cp311-cp311-win_amd64.whl (484 kB)\n",
      "   ---------------------------------------- 0.0/484.6 kB ? eta -:--:--\n",
      "    --------------------------------------- 10.2/484.6 kB ? eta -:--:--\n",
      "    --------------------------------------- 10.2/484.6 kB ? eta -:--:--\n",
      "   -- ------------------------------------ 30.7/484.6 kB 130.4 kB/s eta 0:00:04\n",
      "   ---- ---------------------------------- 61.4/484.6 kB 251.0 kB/s eta 0:00:02\n",
      "   ----- --------------------------------- 71.7/484.6 kB 217.9 kB/s eta 0:00:02\n",
      "   ------- ------------------------------- 92.2/484.6 kB 227.6 kB/s eta 0:00:02\n",
      "   -------- ----------------------------- 112.6/484.6 kB 242.7 kB/s eta 0:00:02\n",
      "   -------- ----------------------------- 112.6/484.6 kB 242.7 kB/s eta 0:00:02\n",
      "   -------- ----------------------------- 112.6/484.6 kB 242.7 kB/s eta 0:00:02\n",
      "   -------- ----------------------------- 112.6/484.6 kB 242.7 kB/s eta 0:00:02\n",
      "   --------- ---------------------------- 122.9/484.6 kB 184.7 kB/s eta 0:00:02\n",
      "   ------------ ------------------------- 153.6/484.6 kB 208.4 kB/s eta 0:00:02\n",
      "   ------------ ------------------------- 153.6/484.6 kB 208.4 kB/s eta 0:00:02\n",
      "   ------------- ------------------------ 174.1/484.6 kB 209.5 kB/s eta 0:00:02\n",
      "   --------------- ---------------------- 194.6/484.6 kB 210.7 kB/s eta 0:00:02\n",
      "   --------------- ---------------------- 194.6/484.6 kB 210.7 kB/s eta 0:00:02\n",
      "   ---------------- --------------------- 204.8/484.6 kB 197.5 kB/s eta 0:00:02\n",
      "   ----------------- -------------------- 225.3/484.6 kB 202.3 kB/s eta 0:00:02\n",
      "   ----------------- -------------------- 225.3/484.6 kB 202.3 kB/s eta 0:00:02\n",
      "   ------------------ ------------------- 235.5/484.6 kB 197.4 kB/s eta 0:00:02\n",
      "   -------------------- ----------------- 256.0/484.6 kB 201.6 kB/s eta 0:00:02\n",
      "   --------------------- ---------------- 276.5/484.6 kB 205.3 kB/s eta 0:00:02\n",
      "   --------------------- ---------------- 276.5/484.6 kB 205.3 kB/s eta 0:00:02\n",
      "   ---------------------- --------------- 286.7/484.6 kB 201.1 kB/s eta 0:00:01\n",
      "   ------------------------ ------------- 307.2/484.6 kB 204.2 kB/s eta 0:00:01\n",
      "   ------------------------ ------------- 307.2/484.6 kB 204.2 kB/s eta 0:00:01\n",
      "   ------------------------ ------------- 317.4/484.6 kB 200.5 kB/s eta 0:00:01\n",
      "   -------------------------- ----------- 337.9/484.6 kB 203.5 kB/s eta 0:00:01\n",
      "   -------------------------- ----------- 337.9/484.6 kB 203.5 kB/s eta 0:00:01\n",
      "   ---------------------------- --------- 358.4/484.6 kB 206.3 kB/s eta 0:00:01\n",
      "   ---------------------------- --------- 358.4/484.6 kB 206.3 kB/s eta 0:00:01\n",
      "   ---------------------------- --------- 368.6/484.6 kB 197.7 kB/s eta 0:00:01\n",
      "   ------------------------------ ------- 389.1/484.6 kB 203.7 kB/s eta 0:00:01\n",
      "   ------------------------------ ------- 389.1/484.6 kB 203.7 kB/s eta 0:00:01\n",
      "   ------------------------------- ------ 399.4/484.6 kB 199.1 kB/s eta 0:00:01\n",
      "   ------------------------------- ------ 399.4/484.6 kB 199.1 kB/s eta 0:00:01\n",
      "   ------------------------------- ------ 399.4/484.6 kB 199.1 kB/s eta 0:00:01\n",
      "   -------------------------------- ----- 419.8/484.6 kB 198.5 kB/s eta 0:00:01\n",
      "   ---------------------------------- --- 440.3/484.6 kB 199.4 kB/s eta 0:00:01\n",
      "   ---------------------------------- --- 440.3/484.6 kB 199.4 kB/s eta 0:00:01\n",
      "   ----------------------------------- -- 450.6/484.6 kB 197.0 kB/s eta 0:00:01\n",
      "   ----------------------------------- -- 450.6/484.6 kB 197.0 kB/s eta 0:00:01\n",
      "   ------------------------------------ - 471.0/484.6 kB 195.3 kB/s eta 0:00:01\n",
      "   -------------------------------------  481.3/484.6 kB 195.7 kB/s eta 0:00:01\n",
      "   -------------------------------------  481.3/484.6 kB 195.7 kB/s eta 0:00:01\n",
      "   -------------------------------------- 484.6/484.6 kB 186.3 kB/s eta 0:00:00\n",
      "Using cached dnspython-2.6.1-py3-none-any.whl (307 kB)\n",
      "Installing collected packages: pyspark, dnspython, pymongo\n",
      "Successfully installed dnspython-2.6.1 pymongo-4.7.2 pyspark-3.5.1\n"
     ]
    }
   ],
   "source": [
    "!pip install pyspark pymongo"
   ]
  },
  {
   "cell_type": "code",
   "execution_count": 3,
   "id": "2e2cac67-b3b9-4a18-96f4-2ea8088a9792",
   "metadata": {},
   "outputs": [],
   "source": [
    "from pyspark.sql import SparkSession\n",
    "\n",
    "spark = SparkSession.builder \\\n",
    "    .appName(\"MongoDB Integration\") \\\n",
    "    .config(\"spark.mongodb.input.uri\", \"mongodb://localhost:27017/Spotify.Standarized_Data\") \\\n",
    "    .config(\"spark.mongodb.output.uri\", \"mongodb://localhost:27017/Spotify.Standarized_Data\") \\\n",
    "    .getOrCreate()\n"
   ]
  },
  {
   "cell_type": "code",
   "execution_count": null,
   "id": "3c5c2efe-1c10-456b-86d0-0d5efab0d9fd",
   "metadata": {},
   "outputs": [],
   "source": [
    "#**************************************************************************************\n",
    "#CONNECTION OF PYSPARK WITH THE MONGODB\n",
    "#**************************************************************************************"
   ]
  },
  {
   "cell_type": "code",
   "execution_count": 10,
   "id": "3fa21190-5c61-478a-a8fb-ec3ff28a8208",
   "metadata": {},
   "outputs": [],
   "source": [
    "import pymongo"
   ]
  },
  {
   "cell_type": "code",
   "execution_count": 11,
   "id": "9a6151bb-fc21-4f9e-ab27-c687b59cfebd",
   "metadata": {},
   "outputs": [],
   "source": [
    "from pymongo import MongoClient"
   ]
  },
  {
   "cell_type": "code",
   "execution_count": 12,
   "id": "608fcf05-2c23-4d26-a738-258508ab6ad9",
   "metadata": {},
   "outputs": [],
   "source": [
    "client=MongoClient('localhost',27017)"
   ]
  },
  {
   "cell_type": "code",
   "execution_count": 13,
   "id": "76f03e8b-a96d-4c97-92a8-11dc706f9654",
   "metadata": {},
   "outputs": [
    {
     "data": {
      "text/plain": [
       "['Spotify', 'admin', 'config', 'local']"
      ]
     },
     "execution_count": 13,
     "metadata": {},
     "output_type": "execute_result"
    }
   ],
   "source": [
    "client.list_database_names()"
   ]
  },
  {
   "cell_type": "code",
   "execution_count": 14,
   "id": "f868403c-c0c5-4474-895e-b8a58d807c3f",
   "metadata": {},
   "outputs": [],
   "source": [
    "db=client.Spotify"
   ]
  },
  {
   "cell_type": "code",
   "execution_count": 15,
   "id": "cace1903-a89f-4d87-bd0b-1a886457cb3d",
   "metadata": {},
   "outputs": [
    {
     "data": {
      "text/plain": [
       "['Standarized_Data']"
      ]
     },
     "execution_count": 15,
     "metadata": {},
     "output_type": "execute_result"
    }
   ],
   "source": [
    "db.list_collection_names()"
   ]
  },
  {
   "cell_type": "code",
   "execution_count": 16,
   "id": "dc5529ae-2124-4770-856f-5de8cc0fe6a2",
   "metadata": {},
   "outputs": [
    {
     "data": {
      "text/plain": [
       "122"
      ]
     },
     "execution_count": 16,
     "metadata": {},
     "output_type": "execute_result"
    }
   ],
   "source": [
    "db.Standarized_Data.count_documents({})"
   ]
  },
  {
   "cell_type": "code",
   "execution_count": 17,
   "id": "c3c8be18-541d-4083-a820-b835bbaee98c",
   "metadata": {},
   "outputs": [],
   "source": [
    "cursor=db.Standarized_Data.find({})"
   ]
  },
  {
   "cell_type": "code",
   "execution_count": 18,
   "id": "abeeb6c2-34ed-436a-8467-0b7622f97cbb",
   "metadata": {},
   "outputs": [
    {
     "name": "stdout",
     "output_type": "stream",
     "text": [
      "{'_id': ObjectId('6640bc7a28102c842b67818b'), 'directory_name': 0, 'track_id': 714, 'feature_0': 0.05109504, 'feature_1': 0.4948731, 'feature_2': 0.6736346, 'feature_3': 1.2194263, 'feature_4': 0.6850682, 'feature_5': -1.5107579, 'feature_6': 1.5983171, 'feature_7': -1.0522151, 'feature_8': 0.7020406, 'feature_9': 0.6286115, 'feature_10': 1.8620392, 'feature_11': 0.723812, 'feature_12': -0.2551291, 'feature_13': -0.69026196, 'feature_14': -0.6270694, 'feature_15': -1.256234, 'feature_16': -1.3793452, 'feature_17': -1.0065473, 'feature_18': -1.128634, 'feature_19': 0.7923046}\n",
      "{'_id': ObjectId('6640bc7a28102c842b67818c'), 'directory_name': 0, 'track_id': 706, 'feature_0': 0.95355403, 'feature_1': -1.4509752, 'feature_2': 1.1085137, 'feature_3': -0.19734888, 'feature_4': 0.261878, 'feature_5': 0.88308364, 'feature_6': -0.76062214, 'feature_7': 0.67956954, 'feature_8': 1.1234149, 'feature_9': 1.2319587, 'feature_10': 1.5606201, 'feature_11': 0.0561539, 'feature_12': 0.41824406, 'feature_13': 1.3559283, 'feature_14': -0.25204036, 'feature_15': 0.79907966, 'feature_16': 0.8123499, 'feature_17': -0.8833121, 'feature_18': 0.6894401, 'feature_19': 0.1430502}\n",
      "{'_id': ObjectId('6640bc7a28102c842b67818d'), 'directory_name': 0, 'track_id': 695, 'feature_0': 0.7074277, 'feature_1': -0.99076706, 'feature_2': -0.08296839, 'feature_3': -0.8048826, 'feature_4': -0.119143695, 'feature_5': 0.52577645, 'feature_6': 1.557907, 'feature_7': 0.39275464, 'feature_8': 1.1827581, 'feature_9': 1.1938657, 'feature_10': 1.2042801, 'feature_11': 1.6606863, 'feature_12': 1.6286396, 'feature_13': 1.0071362, 'feature_14': 0.73230857, 'feature_15': 0.975273, 'feature_16': 0.6159989, 'feature_17': 0.55095196, 'feature_18': 0.4191414, 'feature_19': 1.7290456}\n",
      "{'_id': ObjectId('6640bc7a28102c842b67818e'), 'directory_name': 0, 'track_id': 853, 'feature_0': -0.14536943, 'feature_1': 1.3661096, 'feature_2': -1.6077398, 'feature_3': -0.03023189, 'feature_4': -1.7679731, 'feature_5': 0.050779097, 'feature_6': -1.9234291, 'feature_7': -1.4310136, 'feature_8': -0.8844372, 'feature_9': -2.379686, 'feature_10': -0.26449156, 'feature_11': -2.5040405, 'feature_12': -2.513985, 'feature_13': -0.5833068, 'feature_14': -1.4803083, 'feature_15': -1.4248945, 'feature_16': -0.61947197, 'feature_17': -1.9036331, 'feature_18': -0.90977913, 'feature_19': -0.118172735}\n",
      "{'_id': ObjectId('6640bc7a28102c842b67818f'), 'directory_name': 0, 'track_id': 995, 'feature_0': 1.9169173, 'feature_1': -0.8026152, 'feature_2': -0.76573473, 'feature_3': -1.0488911, 'feature_4': -0.6657, 'feature_5': 0.31294924, 'feature_6': 0.45881832, 'feature_7': 0.6056617, 'feature_8': 0.34030813, 'feature_9': 0.26787436, 'feature_10': -0.14630851, 'feature_11': -0.21620929, 'feature_12': 0.009292588, 'feature_13': -0.009310528, 'feature_14': -0.09469615, 'feature_15': -0.004481242, 'feature_16': -0.120643474, 'feature_17': -0.10422307, 'feature_18': -0.30728155, 'feature_19': -0.13459365}\n",
      "{'_id': ObjectId('6640bc7a28102c842b678190'), 'directory_name': 0, 'track_id': 213, 'feature_0': -1.1851695, 'feature_1': 1.3289905, 'feature_2': 0.2517181, 'feature_3': -0.7946462, 'feature_4': 0.83062434, 'feature_5': -1.3309544, 'feature_6': -0.7379216, 'feature_7': -0.08058714, 'feature_8': -0.32671726, 'feature_9': -1.0379165, 'feature_10': -1.0731753, 'feature_11': -0.7247327, 'feature_12': -0.04482822, 'feature_13': -1.5423163, 'feature_14': -2.5273087, 'feature_15': -0.12567845, 'feature_16': -0.19691071, 'feature_17': 0.8417085, 'feature_18': 1.6777904, 'feature_19': -0.37397245}\n",
      "{'_id': ObjectId('6640bc7a28102c842b678191'), 'directory_name': 0, 'track_id': 255, 'feature_0': -0.12923959, 'feature_1': 1.3871689, 'feature_2': -0.49846852, 'feature_3': -0.684469, 'feature_4': -0.5568974, 'feature_5': 0.678267, 'feature_6': -0.52348864, 'feature_7': -0.34316984, 'feature_8': -0.21862867, 'feature_9': -0.047827236, 'feature_10': 0.2885743, 'feature_11': -0.42589346, 'feature_12': 0.032028746, 'feature_13': 0.0107573, 'feature_14': -0.047870193, 'feature_15': 0.01639322, 'feature_16': -0.729935, 'feature_17': -0.3609552, 'feature_18': -1.1939001, 'feature_19': -0.35435465}\n",
      "{'_id': ObjectId('6640bc7a28102c842b678192'), 'directory_name': 0, 'track_id': 190, 'feature_0': -0.13636965, 'feature_1': -0.337147, 'feature_2': -0.51080674, 'feature_3': -0.30052033, 'feature_4': -0.26123175, 'feature_5': -1.0363504, 'feature_6': -1.5925543, 'feature_7': -1.2504535, 'feature_8': -1.4847637, 'feature_9': -0.78705686, 'feature_10': -1.5007578, 'feature_11': -0.91359735, 'feature_12': -0.4871118, 'feature_13': -0.98466367, 'feature_14': -0.47722507, 'feature_15': -1.5711377, 'feature_16': -0.9244031, 'feature_17': -0.34116364, 'feature_18': -0.4896493, 'feature_19': -1.734091}\n",
      "{'_id': ObjectId('6640bc7a28102c842b678193'), 'directory_name': 0, 'track_id': 204, 'feature_0': -0.32133177, 'feature_1': 0.21909821, 'feature_2': -0.16636176, 'feature_3': -0.8706909, 'feature_4': 0.68540156, 'feature_5': -0.60784614, 'feature_6': -0.8947772, 'feature_7': -1.5243721, 'feature_8': -0.9890748, 'feature_9': -0.7286632, 'feature_10': -1.3029069, 'feature_11': -0.56802565, 'feature_12': -1.2792864, 'feature_13': -1.1593424, 'feature_14': 0.44766057, 'feature_15': -1.5614032, 'feature_16': 1.1545986, 'feature_17': 0.75251454, 'feature_18': 0.9241185, 'feature_19': 0.1270277}\n",
      "{'_id': ObjectId('6640bc7a28102c842b678194'), 'directory_name': 0, 'track_id': 5, 'feature_0': 0.14046307, 'feature_1': -0.60032344, 'feature_2': 0.8369056, 'feature_3': -0.48255047, 'feature_4': 0.25149068, 'feature_5': 0.45780602, 'feature_6': 0.08000874, 'feature_7': 1.5240829, 'feature_8': 0.22619028, 'feature_9': -0.08264152, 'feature_10': 0.6761928, 'feature_11': 1.1109444, 'feature_12': 1.7286526, 'feature_13': 1.0705509, 'feature_14': 1.0518581, 'feature_15': 0.20521629, 'feature_16': 0.40617442, 'feature_17': -0.0700914, 'feature_18': 0.66448873, 'feature_19': 0.48532203}\n",
      "{'_id': ObjectId('6640bc7a28102c842b678195'), 'directory_name': 0, 'track_id': 256, 'feature_0': 1.2693139, 'feature_1': -0.27170354, 'feature_2': -0.87406564, 'feature_3': 0.1929191, 'feature_4': 0.4526815, 'feature_5': -0.28851578, 'feature_6': 0.33172792, 'feature_7': 0.6390012, 'feature_8': 1.0788368, 'feature_9': 0.5220528, 'feature_10': 0.75695115, 'feature_11': 0.61272454, 'feature_12': 1.3423567, 'feature_13': 0.44705445, 'feature_14': 0.622188, 'feature_15': 0.09391774, 'feature_16': -0.4267648, 'feature_17': -0.2733259, 'feature_18': 0.10050528, 'feature_19': -0.20518956}\n",
      "{'_id': ObjectId('6640bc7a28102c842b678196'), 'directory_name': 0, 'track_id': 211, 'feature_0': -0.056131463, 'feature_1': 0.41346985, 'feature_2': -0.9673544, 'feature_3': -0.42660972, 'feature_4': -0.6668729, 'feature_5': -1.09262, 'feature_6': -1.1221198, 'feature_7': -1.5609668, 'feature_8': -1.7060487, 'feature_9': -1.4203187, 'feature_10': -1.3431659, 'feature_11': -1.1028523, 'feature_12': -0.6214825, 'feature_13': -1.4562649, 'feature_14': -0.1305798, 'feature_15': -1.0185887, 'feature_16': -0.5652856, 'feature_17': -0.33899608, 'feature_18': -0.13953705, 'feature_19': -0.39018393}\n",
      "{'_id': ObjectId('6640bc7a28102c842b678197'), 'directory_name': 0, 'track_id': 621, 'feature_0': 0.04211657, 'feature_1': 0.019646322, 'feature_2': -0.5434413, 'feature_3': -0.5021075, 'feature_4': -0.38803694, 'feature_5': -0.10233872, 'feature_6': -1.174814, 'feature_7': -0.70453906, 'feature_8': -1.4186801, 'feature_9': -0.6779138, 'feature_10': -1.1835557, 'feature_11': -1.8094155, 'feature_12': -1.245868, 'feature_13': -1.278729, 'feature_14': -0.33064008, 'feature_15': -0.512962, 'feature_16': -1.9084411, 'feature_17': -2.1506443, 'feature_18': -1.3539456, 'feature_19': -1.2498095}\n",
      "{'_id': ObjectId('6640bc7a28102c842b678198'), 'directory_name': 0, 'track_id': 667, 'feature_0': 0.2922621, 'feature_1': 0.4907075, 'feature_2': -1.1225775, 'feature_3': 2.053345, 'feature_4': -3.043885, 'feature_5': 1.9334079, 'feature_6': -1.5564362, 'feature_7': 0.7384282, 'feature_8': -1.019966, 'feature_9': 0.054070897, 'feature_10': -0.36099908, 'feature_11': 0.0014613277, 'feature_12': -0.5882806, 'feature_13': -1.1156582, 'feature_14': -1.7696292, 'feature_15': -0.95998937, 'feature_16': -1.2890023, 'feature_17': -0.37394398, 'feature_18': -0.1278296, 'feature_19': 0.5384494}\n",
      "{'_id': ObjectId('6640bc7a28102c842b678199'), 'directory_name': 0, 'track_id': 821, 'feature_0': -1.2551703, 'feature_1': -0.2092274, 'feature_2': 1.466564, 'feature_3': 0.4292526, 'feature_4': 1.1232094, 'feature_5': 0.4339469, 'feature_6': 1.3811914, 'feature_7': 0.78782994, 'feature_8': 1.2405844, 'feature_9': 1.882143, 'feature_10': 1.0221434, 'feature_11': 0.58120805, 'feature_12': 1.1804997, 'feature_13': 0.95216995, 'feature_14': 0.7516946, 'feature_15': 1.0273244, 'feature_16': 1.4466599, 'feature_17': 1.0305929, 'feature_18': 0.32628816, 'feature_19': 1.3103453}\n",
      "{'_id': ObjectId('6640bc7a28102c842b67819a'), 'directory_name': 0, 'track_id': 890, 'feature_0': -1.4763887, 'feature_1': 1.0967926, 'feature_2': -0.20887226, 'feature_3': 0.6216787, 'feature_4': -1.1462383, 'feature_5': 0.3693552, 'feature_6': -1.1255159, 'feature_7': 0.10521995, 'feature_8': -0.23654513, 'feature_9': 0.5541942, 'feature_10': -0.11591989, 'feature_11': 1.578259, 'feature_12': 0.37147865, 'feature_13': -2.054979, 'feature_14': 2.039816, 'feature_15': -1.749614, 'feature_16': 0.48173705, 'feature_17': 2.763209, 'feature_18': -1.0741823, 'feature_19': -0.019761583}\n",
      "{'_id': ObjectId('6640bc7a28102c842b67819b'), 'directory_name': 0, 'track_id': 540, 'feature_0': -0.69039226, 'feature_1': 0.7098312, 'feature_2': 0.15936683, 'feature_3': 1.6637455, 'feature_4': -0.34341756, 'feature_5': -0.7307126, 'feature_6': 1.6222298, 'feature_7': -1.5653173, 'feature_8': -1.2695101, 'feature_9': 0.068172306, 'feature_10': 0.93356675, 'feature_11': -0.35589305, 'feature_12': -1.0040432, 'feature_13': -0.07537658, 'feature_14': -1.0362636, 'feature_15': -0.19223174, 'feature_16': -0.26568004, 'feature_17': -0.051027607, 'feature_18': 0.79621357, 'feature_19': 0.4528272}\n",
      "{'_id': ObjectId('6640bc7a28102c842b67819c'), 'directory_name': 0, 'track_id': 716, 'feature_0': 0.14096008, 'feature_1': 1.3150362, 'feature_2': -0.93098015, 'feature_3': 0.81022066, 'feature_4': -1.0278348, 'feature_5': -1.6178026, 'feature_6': 0.5261174, 'feature_7': -0.08943075, 'feature_8': -0.21961404, 'feature_9': -2.5617828, 'feature_10': -2.1674614, 'feature_11': 0.6179471, 'feature_12': 0.6510122, 'feature_13': -1.7754772, 'feature_14': -0.5660137, 'feature_15': 0.29029566, 'feature_16': -1.4127973, 'feature_17': 0.60401857, 'feature_18': 0.5530684, 'feature_19': -3.8052673}\n",
      "{'_id': ObjectId('6640bc7a28102c842b67819d'), 'directory_name': 0, 'track_id': 705, 'feature_0': 0.8778958, 'feature_1': -1.5020654, 'feature_2': 0.51423794, 'feature_3': -0.8219585, 'feature_4': 0.5738337, 'feature_5': 1.3344382, 'feature_6': 0.92189485, 'feature_7': 1.5788094, 'feature_8': 0.89643914, 'feature_9': 0.4845535, 'feature_10': 0.9146022, 'feature_11': 1.3609113, 'feature_12': 0.52301955, 'feature_13': 0.59533185, 'feature_14': 0.47291237, 'feature_15': 0.41417584, 'feature_16': -0.24544103, 'feature_17': 0.52647716, 'feature_18': 1.1127185, 'feature_19': 0.1316062}\n",
      "{'_id': ObjectId('6640bc7a28102c842b67819e'), 'directory_name': 0, 'track_id': 707, 'feature_0': 0.4788876, 'feature_1': -1.3834945, 'feature_2': -0.24742183, 'feature_3': 2.4781888, 'feature_4': 1.2878172, 'feature_5': 0.26775068, 'feature_6': 1.1234442, 'feature_7': 1.0422807, 'feature_8': 1.0792849, 'feature_9': 0.110074654, 'feature_10': -0.13485436, 'feature_11': 1.0616721, 'feature_12': -0.23910227, 'feature_13': 0.43824628, 'feature_14': 1.1264051, 'feature_15': 1.0101542, 'feature_16': 0.2794008, 'feature_17': -0.38543567, 'feature_18': 1.9463999, 'feature_19': 0.51627004}\n",
      "{'_id': ObjectId('6640bc7a28102c842b67819f'), 'directory_name': 0, 'track_id': 718, 'feature_0': 0.25743386, 'feature_1': -1.5071121, 'feature_2': 0.06585693, 'feature_3': -1.2044582, 'feature_4': -1.9395919, 'feature_5': -2.0650086, 'feature_6': -0.97730196, 'feature_7': 0.2610441, 'feature_8': -1.3470412, 'feature_9': -2.4963582, 'feature_10': -0.7862585, 'feature_11': -0.12173516, 'feature_12': -1.6226268, 'feature_13': 0.46009332, 'feature_14': 1.9358945, 'feature_15': 2.535582, 'feature_16': 0.8231135, 'feature_17': 0.7201226, 'feature_18': -1.189732, 'feature_19': -1.5631393}\n",
      "{'_id': ObjectId('6640bc7a28102c842b6781a0'), 'directory_name': 0, 'track_id': 777, 'feature_0': -0.36732048, 'feature_1': -0.8306476, 'feature_2': 0.94382507, 'feature_3': -0.33471423, 'feature_4': 0.55982393, 'feature_5': 1.954984, 'feature_6': 0.5710457, 'feature_7': 0.45272937, 'feature_8': 0.7715817, 'feature_9': 0.8152687, 'feature_10': 0.8419057, 'feature_11': 0.7539815, 'feature_12': 1.0491227, 'feature_13': 0.9259644, 'feature_14': 0.46212068, 'feature_15': 1.20613, 'feature_16': 0.035894953, 'feature_17': 1.2373067, 'feature_18': 0.355958, 'feature_19': 0.31295586}\n",
      "{'_id': ObjectId('6640bc7a28102c842b6781a1'), 'directory_name': 0, 'track_id': 534, 'feature_0': -1.142104, 'feature_1': 1.04122, 'feature_2': 1.5426159, 'feature_3': 1.6210276, 'feature_4': -0.739911, 'feature_5': -0.08414765, 'feature_6': 1.4169524, 'feature_7': -2.1064558, 'feature_8': -0.112309374, 'feature_9': 0.33466092, 'feature_10': -0.24123812, 'feature_11': -0.590077, 'feature_12': -0.69313616, 'feature_13': 1.0479673, 'feature_14': 0.3530287, 'feature_15': 0.53108513, 'feature_16': 0.5086923, 'feature_17': -0.2515825, 'feature_18': -0.12540144, 'feature_19': 0.6458779}\n",
      "{'_id': ObjectId('6640bc7a28102c842b6781a2'), 'directory_name': 0, 'track_id': 200, 'feature_0': -0.0067258496, 'feature_1': -0.13473049, 'feature_2': -0.85104644, 'feature_3': 0.73724276, 'feature_4': -0.5079049, 'feature_5': -0.41264427, 'feature_6': -0.7833655, 'feature_7': -0.6736382, 'feature_8': -0.5197896, 'feature_9': -0.77766067, 'feature_10': -1.66282, 'feature_11': -1.2826071, 'feature_12': -0.3949693, 'feature_13': -1.6819812, 'feature_14': -0.65208316, 'feature_15': -0.64173543, 'feature_16': -0.58288944, 'feature_17': -1.7141541, 'feature_18': -2.1273234, 'feature_19': -1.8846829}\n",
      "{'_id': ObjectId('6640bc7a28102c842b6781a3'), 'directory_name': 0, 'track_id': 625, 'feature_0': -0.009613999, 'feature_1': 0.08334648, 'feature_2': -0.60503364, 'feature_3': -0.686495, 'feature_4': 0.15536173, 'feature_5': -0.4988007, 'feature_6': -0.52992904, 'feature_7': -1.5276616, 'feature_8': -0.7222522, 'feature_9': -0.08632695, 'feature_10': -0.5568931, 'feature_11': -0.8729997, 'feature_12': -0.7479445, 'feature_13': -1.381672, 'feature_14': -1.1889986, 'feature_15': -1.7667742, 'feature_16': -0.92561513, 'feature_17': -1.2752771, 'feature_18': -0.7913484, 'feature_19': -0.69584167}\n",
      "{'_id': ObjectId('6640bc7a28102c842b6781a4'), 'directory_name': 0, 'track_id': 194, 'feature_0': -0.5217861, 'feature_1': 0.26192003, 'feature_2': -0.7005864, 'feature_3': 0.007495751, 'feature_4': -0.3779484, 'feature_5': -0.2019498, 'feature_6': -0.78151757, 'feature_7': -0.5275609, 'feature_8': -1.1998321, 'feature_9': -0.6723198, 'feature_10': -1.1518176, 'feature_11': -0.44958386, 'feature_12': -0.6173161, 'feature_13': -1.4125702, 'feature_14': -0.74824345, 'feature_15': -0.8574825, 'feature_16': -1.2428849, 'feature_17': -1.3985004, 'feature_18': -1.0333831, 'feature_19': -1.3343455}\n",
      "{'_id': ObjectId('6640bc7a28102c842b6781a5'), 'directory_name': 0, 'track_id': 690, 'feature_0': 0.9135628, 'feature_1': -1.0747193, 'feature_2': -1.402414, 'feature_3': 1.858884, 'feature_4': 1.2031336, 'feature_5': 1.804137, 'feature_6': 1.5011436, 'feature_7': 0.8267627, 'feature_8': 1.9157968, 'feature_9': 0.3556726, 'feature_10': 0.51556945, 'feature_11': 1.1067394, 'feature_12': 0.42163098, 'feature_13': 0.17112058, 'feature_14': 0.051959902, 'feature_15': 0.5238026, 'feature_16': 0.034910675, 'feature_17': 0.08062619, 'feature_18': 0.6627907, 'feature_19': 0.19805333}\n",
      "{'_id': ObjectId('6640bc7a28102c842b6781a6'), 'directory_name': 0, 'track_id': 546, 'feature_0': -0.84555, 'feature_1': 1.0031589, 'feature_2': 0.27989042, 'feature_3': 1.4700245, 'feature_4': -0.8508622, 'feature_5': -0.90043753, 'feature_6': 2.123439, 'feature_7': -0.9615434, 'feature_8': -0.97735846, 'feature_9': 0.06938318, 'feature_10': 0.03582397, 'feature_11': 0.84869725, 'feature_12': -1.4942429, 'feature_13': -0.22071187, 'feature_14': -0.05293642, 'feature_15': -0.83528286, 'feature_16': 1.1553, 'feature_17': -0.31676403, 'feature_18': 1.05189, 'feature_19': 0.18225043}\n",
      "{'_id': ObjectId('6640bc7a28102c842b6781a7'), 'directory_name': 0, 'track_id': 148, 'feature_0': 1.0786203, 'feature_1': 0.41528893, 'feature_2': -0.71638685, 'feature_3': 0.063740246, 'feature_4': 1.0056354, 'feature_5': 0.55103105, 'feature_6': 0.32130632, 'feature_7': 1.2653363, 'feature_8': 0.77716213, 'feature_9': 1.23589, 'feature_10': 0.8386395, 'feature_11': 0.8579641, 'feature_12': 1.0820911, 'feature_13': 1.6339995, 'feature_14': 2.0669563, 'feature_15': 1.2250379, 'feature_16': 1.15032, 'feature_17': 2.163295, 'feature_18': 2.925595, 'feature_19': 1.303075}\n",
      "{'_id': ObjectId('6640bc7a28102c842b6781a8'), 'directory_name': 0, 'track_id': 676, 'feature_0': 0.20040458, 'feature_1': -0.32698032, 'feature_2': 1.5392684, 'feature_3': -0.55528116, 'feature_4': 0.8810955, 'feature_5': 0.5289228, 'feature_6': 0.7853637, 'feature_7': 2.3583028, 'feature_8': -0.22310731, 'feature_9': 0.043866053, 'feature_10': -0.1677562, 'feature_11': -0.55508137, 'feature_12': 1.2769327, 'feature_13': 0.43319932, 'feature_14': 0.37195078, 'feature_15': 1.2929295, 'feature_16': 0.16220254, 'feature_17': 0.57715136, 'feature_18': 1.3374914, 'feature_19': -0.12376649}\n",
      "{'_id': ObjectId('6640bc7a28102c842b6781a9'), 'directory_name': 0, 'track_id': 897, 'feature_0': 1.2727804, 'feature_1': -2.4646513, 'feature_2': -0.46385887, 'feature_3': -0.28861335, 'feature_4': -0.10431584, 'feature_5': 0.9608036, 'feature_6': 0.93314916, 'feature_7': 0.93653166, 'feature_8': 1.3166173, 'feature_9': 1.1678267, 'feature_10': 0.78681993, 'feature_11': 0.5649981, 'feature_12': 0.8317483, 'feature_13': 0.91425604, 'feature_14': 0.66962594, 'feature_15': 0.6210819, 'feature_16': 0.34160343, 'feature_17': -0.041318428, 'feature_18': 0.5276414, 'feature_19': 1.5024495}\n",
      "{'_id': ObjectId('6640bc7a28102c842b6781aa'), 'directory_name': 0, 'track_id': 704, 'feature_0': 0.874824, 'feature_1': -1.5603036, 'feature_2': 0.42071253, 'feature_3': -0.537569, 'feature_4': 1.4763807, 'feature_5': 0.86085165, 'feature_6': 0.48803315, 'feature_7': 0.388063, 'feature_8': 1.0463678, 'feature_9': 1.171844, 'feature_10': 0.9150819, 'feature_11': 0.64364237, 'feature_12': 0.31157085, 'feature_13': 1.1037141, 'feature_14': 1.2825581, 'feature_15': 0.088257626, 'feature_16': -1.1881031, 'feature_17': 0.7540306, 'feature_18': 1.4414649, 'feature_19': 0.32335764}\n",
      "{'_id': ObjectId('6640bc7a28102c842b6781ab'), 'directory_name': 0, 'track_id': 207, 'feature_0': -2.0774481, 'feature_1': -0.122830816, 'feature_2': 0.26178676, 'feature_3': -1.0542549, 'feature_4': -0.45898297, 'feature_5': -1.245144, 'feature_6': -0.6971598, 'feature_7': -0.77226835, 'feature_8': -0.34240994, 'feature_9': -0.073224664, 'feature_10': 0.14638631, 'feature_11': -0.40685695, 'feature_12': -0.10316244, 'feature_13': -0.51434654, 'feature_14': -0.6635401, 'feature_15': -0.4423635, 'feature_16': -0.49687737, 'feature_17': -0.83261967, 'feature_18': -1.3609941, 'feature_19': -0.49381056}\n",
      "{'_id': ObjectId('6640bc7a28102c842b6781ac'), 'directory_name': 0, 'track_id': 193, 'feature_0': -0.63088834, 'feature_1': 0.29328018, 'feature_2': -0.79908067, 'feature_3': 0.39785075, 'feature_4': -0.50004226, 'feature_5': -0.06445352, 'feature_6': -0.9246603, 'feature_7': -0.95648074, 'feature_8': -1.1528763, 'feature_9': -0.95512825, 'feature_10': -0.9560319, 'feature_11': -0.7982353, 'feature_12': -0.49324027, 'feature_13': -1.017254, 'feature_14': -1.6040555, 'feature_15': -1.385557, 'feature_16': -1.4037842, 'feature_17': -1.8660825, 'feature_18': -1.3365815, 'feature_19': -2.0220165}\n",
      "{'_id': ObjectId('6640bc7a28102c842b6781ad'), 'directory_name': 0, 'track_id': 709, 'feature_0': 0.4794754, 'feature_1': -0.55933857, 'feature_2': 0.43325928, 'feature_3': -0.6342296, 'feature_4': 0.15188852, 'feature_5': 0.24180311, 'feature_6': -0.6841609, 'feature_7': 0.21913995, 'feature_8': 0.6600775, 'feature_9': 0.67071724, 'feature_10': 1.6476685, 'feature_11': 1.0086793, 'feature_12': 0.64653856, 'feature_13': 0.76759046, 'feature_14': -0.15456428, 'feature_15': 0.42824993, 'feature_16': 0.024484616, 'feature_17': 0.57317656, 'feature_18': 1.1245383, 'feature_19': 0.5223835}\n",
      "{'_id': ObjectId('6640bc7a28102c842b6781ae'), 'directory_name': 0, 'track_id': 615, 'feature_0': -2.6107137, 'feature_1': 2.0245333, 'feature_2': 3.290192, 'feature_3': 1.3751616, 'feature_4': 0.8179277, 'feature_5': -0.13478291, 'feature_6': 0.49905127, 'feature_7': -0.28115043, 'feature_8': 0.33513463, 'feature_9': 0.68242127, 'feature_10': 0.16854386, 'feature_11': -0.990138, 'feature_12': -0.97497696, 'feature_13': -1.2066604, 'feature_14': -1.5710843, 'feature_15': -0.8298131, 'feature_16': 0.49662778, 'feature_17': 0.602039, 'feature_18': -0.041515954, 'feature_19': 0.07221814}\n",
      "{'_id': ObjectId('6640bc7a28102c842b6781af'), 'directory_name': 0, 'track_id': 998, 'feature_0': 1.9091759, 'feature_1': -1.0775486, 'feature_2': 0.13067418, 'feature_3': -1.609282, 'feature_4': -0.21331255, 'feature_5': 0.119605236, 'feature_6': 0.7949164, 'feature_7': 0.583042, 'feature_8': 0.7119563, 'feature_9': 0.5504326, 'feature_10': 0.36905783, 'feature_11': 0.25073585, 'feature_12': 0.6093563, 'feature_13': 0.3962806, 'feature_14': 0.49036777, 'feature_15': 0.5476417, 'feature_16': 0.52715683, 'feature_17': 0.38785014, 'feature_18': 0.3882019, 'feature_19': 0.86764574}\n",
      "{'_id': ObjectId('6640bc7a28102c842b6781b0'), 'directory_name': 0, 'track_id': 574, 'feature_0': 1.2958304, 'feature_1': -0.61198086, 'feature_2': -0.28555685, 'feature_3': -0.6050515, 'feature_4': 0.5640211, 'feature_5': -0.833542, 'feature_6': -0.70509034, 'feature_7': -0.03963114, 'feature_8': 0.004243262, 'feature_9': 0.6251205, 'feature_10': 0.4969197, 'feature_11': -0.0071576, 'feature_12': -0.3761896, 'feature_13': 0.30529952, 'feature_14': -0.04818223, 'feature_15': -0.7199508, 'feature_16': -0.62489015, 'feature_17': -0.10577717, 'feature_18': -0.29986215, 'feature_19': 0.3839171}\n",
      "{'_id': ObjectId('6640bc7a28102c842b6781b1'), 'directory_name': 0, 'track_id': 424, 'feature_0': 0.14914644, 'feature_1': 0.42465395, 'feature_2': -1.8682548, 'feature_3': 1.1450282, 'feature_4': -1.2359515, 'feature_5': -0.707936, 'feature_6': -1.6430342, 'feature_7': -0.99490255, 'feature_8': -1.7591865, 'feature_9': -0.4706413, 'feature_10': 0.11946423, 'feature_11': -0.09877837, 'feature_12': -1.5974286, 'feature_13': 0.34157717, 'feature_14': -0.18597977, 'feature_15': -1.2465898, 'feature_16': -1.0779967, 'feature_17': -1.0434427, 'feature_18': -1.4123963, 'feature_19': 0.040814478}\n",
      "{'_id': ObjectId('6640bc7a28102c842b6781b2'), 'directory_name': 0, 'track_id': 459, 'feature_0': 1.0789376, 'feature_1': -0.07990367, 'feature_2': 0.2753533, 'feature_3': -0.3247959, 'feature_4': 1.0157601, 'feature_5': 0.63994175, 'feature_6': 0.5668281, 'feature_7': 1.0982577, 'feature_8': 0.9734802, 'feature_9': 1.0942099, 'feature_10': 0.37308058, 'feature_11': 0.45734373, 'feature_12': 0.9388606, 'feature_13': 0.5292649, 'feature_14': 0.75496525, 'feature_15': 0.41206497, 'feature_16': 0.7047147, 'feature_17': 0.588148, 'feature_18': 0.36052623, 'feature_19': 0.93412274}\n",
      "{'_id': ObjectId('6640bc7a28102c842b6781b3'), 'directory_name': 0, 'track_id': 715, 'feature_0': -0.8351938, 'feature_1': 2.1099002, 'feature_2': 0.20820402, 'feature_3': -1.8319824, 'feature_4': -0.687823, 'feature_5': -0.7269321, 'feature_6': -0.9248969, 'feature_7': 0.2107144, 'feature_8': -0.5029948, 'feature_9': -1.2589583, 'feature_10': 0.16641323, 'feature_11': -1.3986787, 'feature_12': -2.974276, 'feature_13': -0.24453536, 'feature_14': 1.8979299, 'feature_15': 2.480588, 'feature_16': 3.6930857, 'feature_17': 1.9322269, 'feature_18': 0.19378167, 'feature_19': 0.22324815}\n",
      "{'_id': ObjectId('6640bc7a28102c842b6781b4'), 'directory_name': 0, 'track_id': 2, 'feature_0': 0.4637841, 'feature_1': -1.1469648, 'feature_2': -0.014046173, 'feature_3': -1.2188058, 'feature_4': 0.08414813, 'feature_5': 0.19969748, 'feature_6': 0.3951323, 'feature_7': 0.111896895, 'feature_8': 0.2254859, 'feature_9': 0.08095509, 'feature_10': -0.51985013, 'feature_11': 0.23784657, 'feature_12': 0.6465102, 'feature_13': 1.1563632, 'feature_14': 0.5072431, 'feature_15': 0.19219501, 'feature_16': -0.5607491, 'feature_17': -0.5328658, 'feature_18': 0.43996403, 'feature_19': 0.08975091}\n",
      "{'_id': ObjectId('6640bc7a28102c842b6781b5'), 'directory_name': 0, 'track_id': 620, 'feature_0': -0.24231873, 'feature_1': -0.26066133, 'feature_2': 0.19850302, 'feature_3': -0.34914276, 'feature_4': 0.45031968, 'feature_5': -0.57443565, 'feature_6': -0.3171172, 'feature_7': -0.50226074, 'feature_8': -0.47765055, 'feature_9': -0.9609962, 'feature_10': -0.9046721, 'feature_11': -0.6690288, 'feature_12': -0.46511027, 'feature_13': -0.63206446, 'feature_14': -0.6413395, 'feature_15': -0.93772405, 'feature_16': -1.6451225, 'feature_17': -1.6773671, 'feature_18': -1.3445139, 'feature_19': -1.1655492}\n",
      "{'_id': ObjectId('6640bc7a28102c842b6781b6'), 'directory_name': 0, 'track_id': 997, 'feature_0': 1.7251126, 'feature_1': -1.5652652, 'feature_2': -1.0027062, 'feature_3': -0.32782796, 'feature_4': 0.20767148, 'feature_5': 0.9942652, 'feature_6': 0.54240394, 'feature_7': 1.3275177, 'feature_8': 1.9819385, 'feature_9': 1.4190361, 'feature_10': 0.7469775, 'feature_11': 1.0102652, 'feature_12': 1.2633694, 'feature_13': 0.79436624, 'feature_14': 0.92218035, 'feature_15': 1.3423034, 'feature_16': 1.48971, 'feature_17': 1.0963035, 'feature_18': 0.48340276, 'feature_19': 0.8809936}\n",
      "{'_id': ObjectId('6640bc7a28102c842b6781b7'), 'directory_name': 0, 'track_id': 10, 'feature_0': 0.88293636, 'feature_1': -0.43348005, 'feature_2': -1.3967091, 'feature_3': 0.035977025, 'feature_4': 0.006108874, 'feature_5': -0.5430849, 'feature_6': 0.34465656, 'feature_7': -0.1834954, 'feature_8': 0.29650384, 'feature_9': 0.03165739, 'feature_10': -0.39374352, 'feature_11': 0.08618206, 'feature_12': 0.019167028, 'feature_13': 0.30118307, 'feature_14': 0.17349036, 'feature_15': -0.20709746, 'feature_16': 0.7092531, 'feature_17': 0.764508, 'feature_18': 0.86635387, 'feature_19': 1.0315361}\n",
      "{'_id': ObjectId('6640bc7a28102c842b6781b8'), 'directory_name': 0, 'track_id': 210, 'feature_0': 0.15338032, 'feature_1': -0.017180743, 'feature_2': -0.81429213, 'feature_3': -0.7440471, 'feature_4': -0.14941497, 'feature_5': -0.74510884, 'feature_6': -0.79771334, 'feature_7': -0.48270994, 'feature_8': -1.1597701, 'feature_9': -0.79194736, 'feature_10': -1.3408989, 'feature_11': -0.39347985, 'feature_12': -0.8569244, 'feature_13': -2.017189, 'feature_14': -0.87124497, 'feature_15': -1.44704, 'feature_16': 0.12647991, 'feature_17': -0.20730345, 'feature_18': -1.403261, 'feature_19': -0.56616724}\n",
      "{'_id': ObjectId('6640bc7a28102c842b6781b9'), 'directory_name': 0, 'track_id': 892, 'feature_0': 0.21593639, 'feature_1': 1.5516331, 'feature_2': -0.5415039, 'feature_3': -0.58151776, 'feature_4': -0.5435753, 'feature_5': 0.79542136, 'feature_6': -0.11628816, 'feature_7': -0.016675612, 'feature_8': 0.31664965, 'feature_9': -0.5695984, 'feature_10': -0.76671183, 'feature_11': -0.23761189, 'feature_12': 0.26870683, 'feature_13': -0.5857759, 'feature_14': -0.46692124, 'feature_15': 0.10102593, 'feature_16': 1.0618476, 'feature_17': 0.14465551, 'feature_18': -1.2881441, 'feature_19': -1.5176218}\n",
      "{'_id': ObjectId('6640bc7a28102c842b6781ba'), 'directory_name': 0, 'track_id': 141, 'feature_0': -0.7200866, 'feature_1': 0.20743921, 'feature_2': 0.21856435, 'feature_3': -0.19537306, 'feature_4': 0.7745319, 'feature_5': -0.9976275, 'feature_6': 1.1135191, 'feature_7': -0.96786606, 'feature_8': 0.76918685, 'feature_9': 0.435342, 'feature_10': 0.2952403, 'feature_11': -0.6081053, 'feature_12': 0.1057578, 'feature_13': 0.55099297, 'feature_14': 0.49763086, 'feature_15': 1.1536793, 'feature_16': 1.1887281, 'feature_17': 1.0360833, 'feature_18': -1.0805331, 'feature_19': 0.0311499}\n",
      "{'_id': ObjectId('6640bc7a28102c842b6781bb'), 'directory_name': 0, 'track_id': 197, 'feature_0': -1.459213, 'feature_1': 0.525256, 'feature_2': -0.21450043, 'feature_3': -0.5704053, 'feature_4': -0.030747555, 'feature_5': -0.83137804, 'feature_6': -0.530379, 'feature_7': -0.8438267, 'feature_8': -0.6407463, 'feature_9': -0.65815437, 'feature_10': -0.6345801, 'feature_11': -0.9516698, 'feature_12': -0.38880458, 'feature_13': -0.88904166, 'feature_14': -1.5915498, 'feature_15': -0.75786984, 'feature_16': -0.9841398, 'feature_17': -1.2556161, 'feature_18': -0.6388411, 'feature_19': -0.2238371}\n",
      "{'_id': ObjectId('6640bc7a28102c842b6781bc'), 'directory_name': 0, 'track_id': 182, 'feature_0': 0.7796265, 'feature_1': 0.7474847, 'feature_2': -2.016458, 'feature_3': 1.001659, 'feature_4': -2.3252587, 'feature_5': 2.761573, 'feature_6': -0.15177591, 'feature_7': 1.4894742, 'feature_8': 1.9808484, 'feature_9': 1.3854874, 'feature_10': 2.2996588, 'feature_11': 2.032081, 'feature_12': 1.2742691, 'feature_13': 2.0989769, 'feature_14': 0.14864072, 'feature_15': 0.76598024, 'feature_16': 0.9100922, 'feature_17': 0.07251744, 'feature_18': 0.44646972, 'feature_19': 0.18873206}\n",
      "{'_id': ObjectId('6640bc7a28102c842b6781bd'), 'directory_name': 0, 'track_id': 694, 'feature_0': 0.46816164, 'feature_1': -1.1793227, 'feature_2': 0.5027795, 'feature_3': -0.87122905, 'feature_4': 0.8666832, 'feature_5': 0.3742369, 'feature_6': -0.16636755, 'feature_7': 0.68303907, 'feature_8': 0.17631735, 'feature_9': 0.6992815, 'feature_10': 0.820512, 'feature_11': 0.7447225, 'feature_12': 0.7482608, 'feature_13': 0.9091478, 'feature_14': 1.00167, 'feature_15': 1.2441149, 'feature_16': 1.2911688, 'feature_17': 1.090012, 'feature_18': 0.59106493, 'feature_19': 1.4222405}\n",
      "{'_id': ObjectId('6640bc7a28102c842b6781be'), 'directory_name': 0, 'track_id': 212, 'feature_0': 0.10452491, 'feature_1': -0.1749752, 'feature_2': 0.74649787, 'feature_3': -0.9209214, 'feature_4': 1.0014219, 'feature_5': -0.34155795, 'feature_6': 0.3834598, 'feature_7': -0.15497418, 'feature_8': -0.3278533, 'feature_9': 0.050877005, 'feature_10': 0.13553, 'feature_11': 0.31468156, 'feature_12': 0.5425357, 'feature_13': 0.025380429, 'feature_14': 0.9859893, 'feature_15': 0.6551822, 'feature_16': 0.83602834, 'feature_17': 1.1944288, 'feature_18': 1.1361972, 'feature_19': 0.9633862}\n",
      "{'_id': ObjectId('6640bc7a28102c842b6781bf'), 'directory_name': 0, 'track_id': 822, 'feature_0': -0.5172679, 'feature_1': 0.95629525, 'feature_2': 0.9508371, 'feature_3': -0.6280782, 'feature_4': 0.49757147, 'feature_5': 0.37831572, 'feature_6': 1.7887038, 'feature_7': 0.6795968, 'feature_8': 1.0457247, 'feature_9': 1.5173507, 'feature_10': 0.75411385, 'feature_11': 0.3810526, 'feature_12': 1.0339327, 'feature_13': 1.1269954, 'feature_14': 0.9668927, 'feature_15': 0.41267973, 'feature_16': 0.7755383, 'feature_17': 1.2493273, 'feature_18': 0.43693143, 'feature_19': 0.9582733}\n",
      "{'_id': ObjectId('6640bc7a28102c842b6781c0'), 'directory_name': 0, 'track_id': 203, 'feature_0': -1.1968951, 'feature_1': 0.3631625, 'feature_2': 0.35965753, 'feature_3': -0.9934067, 'feature_4': -1.1035595, 'feature_5': -2.2622616, 'feature_6': -1.6770772, 'feature_7': -1.9567056, 'feature_8': -2.010158, 'feature_9': -1.6589261, 'feature_10': -1.9700431, 'feature_11': -2.0153039, 'feature_12': 0.3140511, 'feature_13': 0.6540972, 'feature_14': 1.1709019, 'feature_15': 0.88584036, 'feature_16': 0.5999429, 'feature_17': -0.04769433, 'feature_18': 0.6053749, 'feature_19': 0.9714128}\n",
      "{'_id': ObjectId('6640bc7a28102c842b6781c1'), 'directory_name': 0, 'track_id': 368, 'feature_0': -1.0952976, 'feature_1': 0.16434735, 'feature_2': 1.9822676, 'feature_3': -0.6769423, 'feature_4': 1.4883643, 'feature_5': 1.3680626, 'feature_6': 0.31882626, 'feature_7': 1.179723, 'feature_8': 0.8346756, 'feature_9': 0.47298452, 'feature_10': 1.1833992, 'feature_11': 1.2531987, 'feature_12': 0.708232, 'feature_13': 0.62950057, 'feature_14': 0.35250032, 'feature_15': 0.09930386, 'feature_16': -0.034299396, 'feature_17': 0.1306558, 'feature_18': -0.51987827, 'feature_19': -0.072888896}\n",
      "{'_id': ObjectId('6640bc7a28102c842b6781c2'), 'directory_name': 0, 'track_id': 993, 'feature_0': 0.7007367, 'feature_1': -1.3375304, 'feature_2': 0.5836435, 'feature_3': 2.3811884, 'feature_4': 0.79946107, 'feature_5': 0.21188964, 'feature_6': -0.3232558, 'feature_7': 1.3050667, 'feature_8': 0.9294961, 'feature_9': 1.0548396, 'feature_10': 1.9735553, 'feature_11': 1.8994771, 'feature_12': 2.1034312, 'feature_13': 1.6898853, 'feature_14': 0.35550004, 'feature_15': 0.43572, 'feature_16': 0.35051522, 'feature_17': 0.40035853, 'feature_18': 1.176736, 'feature_19': -1.1810833}\n",
      "{'_id': ObjectId('6640bc7a28102c842b6781c3'), 'directory_name': 0, 'track_id': 140, 'feature_0': -1.2920427, 'feature_1': -0.19836, 'feature_2': 1.6692543, 'feature_3': 0.33749187, 'feature_4': 1.8882898, 'feature_5': 0.4685676, 'feature_6': 1.4799733, 'feature_7': 0.21177429, 'feature_8': 0.94299865, 'feature_9': 1.0257055, 'feature_10': 0.17301868, 'feature_11': -0.41469812, 'feature_12': -0.17010102, 'feature_13': 0.4479319, 'feature_14': -0.5079392, 'feature_15': 0.3573988, 'feature_16': 0.032718357, 'feature_17': -0.008238131, 'feature_18': -0.48749626, 'feature_19': -0.05663419}\n",
      "{'_id': ObjectId('6640bc7a28102c842b6781c4'), 'directory_name': 0, 'track_id': 708, 'feature_0': 0.5807547, 'feature_1': -0.77214205, 'feature_2': 1.3265536, 'feature_3': 0.7807489, 'feature_4': 0.6783854, 'feature_5': -0.42664275, 'feature_6': 0.4455759, 'feature_7': 1.2241484, 'feature_8': 0.78947735, 'feature_9': 0.027616492, 'feature_10': 0.36612228, 'feature_11': 1.076386, 'feature_12': 0.7970177, 'feature_13': 0.46851325, 'feature_14': 0.45218524, 'feature_15': 0.6382821, 'feature_16': 0.4210354, 'feature_17': -0.43905675, 'feature_18': -0.26320377, 'feature_19': 0.8818564}\n",
      "{'_id': ObjectId('6640bc7a28102c842b6781c5'), 'directory_name': 0, 'track_id': 666, 'feature_0': 0.19038318, 'feature_1': 0.9737418, 'feature_2': -1.3574297, 'feature_3': 2.0229516, 'feature_4': -2.3858664, 'feature_5': 1.6865623, 'feature_6': -1.4766655, 'feature_7': 0.94674057, 'feature_8': -0.8232623, 'feature_9': -0.5597993, 'feature_10': -1.1421398, 'feature_11': -1.2696984, 'feature_12': -0.6486315, 'feature_13': -1.0224571, 'feature_14': -1.0528717, 'feature_15': -1.3732888, 'feature_16': -2.0204356, 'feature_17': -1.3006783, 'feature_18': -0.8827482, 'feature_19': 0.06685987}\n",
      "{'_id': ObjectId('6640bc7a28102c842b6781c6'), 'directory_name': 0, 'track_id': 814, 'feature_0': -1.0963626, 'feature_1': 1.5310724, 'feature_2': 0.5089943, 'feature_3': 0.020088993, 'feature_4': 0.5374622, 'feature_5': -1.6394943, 'feature_6': -0.10664409, 'feature_7': -1.2417873, 'feature_8': -0.25422478, 'feature_9': -1.1539047, 'feature_10': -0.31847334, 'feature_11': -0.4570514, 'feature_12': -0.60112834, 'feature_13': -0.28887334, 'feature_14': -1.8103479, 'feature_15': -1.3997952, 'feature_16': -0.4460788, 'feature_17': -1.297564, 'feature_18': -1.2518715, 'feature_19': -1.2955805}\n",
      "{'_id': ObjectId('6640bc7a28102c842b6781c7'), 'directory_name': 0, 'track_id': 602, 'feature_0': -2.3045094, 'feature_1': 1.5815278, 'feature_2': 1.222045, 'feature_3': -0.4191318, 'feature_4': 1.3566761, 'feature_5': 0.014552767, 'feature_6': 0.14384949, 'feature_7': -1.0760498, 'feature_8': -1.4434164, 'feature_9': -1.7132274, 'feature_10': -1.6222937, 'feature_11': -2.2668116, 'feature_12': -1.258203, 'feature_13': -0.59869087, 'feature_14': -1.114711, 'feature_15': -0.45156005, 'feature_16': -0.36089477, 'feature_17': -0.358417, 'feature_18': 0.0396081, 'feature_19': 1.4533671}\n",
      "{'_id': ObjectId('6640bc7a28102c842b6781c8'), 'directory_name': 0, 'track_id': 825, 'feature_0': 1.7204783, 'feature_1': -0.116038375, 'feature_2': -1.0955197, 'feature_3': 0.4031252, 'feature_4': -0.47782767, 'feature_5': 0.39248395, 'feature_6': -0.832907, 'feature_7': 0.017170118, 'feature_8': -0.90135247, 'feature_9': 0.5649597, 'feature_10': -0.6586544, 'feature_11': 0.5815935, 'feature_12': -0.12078833, 'feature_13': 0.67867243, 'feature_14': -0.85078764, 'feature_15': 0.66915196, 'feature_16': -0.9692014, 'feature_17': 0.34932327, 'feature_18': -0.19838706, 'feature_19': -0.09581522}\n",
      "{'_id': ObjectId('6640bc7a28102c842b6781c9'), 'directory_name': 1, 'track_id': 1087, 'feature_0': 0.76815647, 'feature_1': -0.46558523, 'feature_2': -0.6402766, 'feature_3': 2.3069234, 'feature_4': -0.4449935, 'feature_5': 0.9356615, 'feature_6': 1.9058785, 'feature_7': 0.35386145, 'feature_8': 1.34187, 'feature_9': 1.7969282, 'feature_10': 0.80403143, 'feature_11': -0.20805536, 'feature_12': 1.6239517, 'feature_13': 1.5286222, 'feature_14': 1.2603159, 'feature_15': 1.0045466, 'feature_16': 0.44840714, 'feature_17': -1.0425963, 'feature_18': 1.1497504, 'feature_19': -0.28295752}\n",
      "{'_id': ObjectId('6640bc7a28102c842b6781ca'), 'directory_name': 1, 'track_id': 1644, 'feature_0': 1.2912052, 'feature_1': -1.2280382, 'feature_2': 0.80191666, 'feature_3': -0.41571215, 'feature_4': -0.1204429, 'feature_5': 0.44416836, 'feature_6': -0.29970345, 'feature_7': 1.071048, 'feature_8': 0.37887254, 'feature_9': 1.0847019, 'feature_10': 1.480591, 'feature_11': -0.018061435, 'feature_12': 0.06009598, 'feature_13': 0.5863143, 'feature_14': 0.16129725, 'feature_15': -0.82456166, 'feature_16': -0.017605236, 'feature_17': -0.5659555, 'feature_18': -0.3041416, 'feature_19': -0.20066878}\n",
      "{'_id': ObjectId('6640bc7a28102c842b6781cb'), 'directory_name': 1, 'track_id': 1069, 'feature_0': 0.7012368, 'feature_1': -0.3401883, 'feature_2': -1.2435551, 'feature_3': -0.44810617, 'feature_4': -0.029925233, 'feature_5': 0.8466427, 'feature_6': -0.22158296, 'feature_7': 0.16182797, 'feature_8': 1.3215004, 'feature_9': 1.1521116, 'feature_10': -0.08105895, 'feature_11': -0.0847152, 'feature_12': 1.3588533, 'feature_13': 1.5735855, 'feature_14': 1.3377265, 'feature_15': 1.3971547, 'feature_16': 1.6697205, 'feature_17': 1.6471378, 'feature_18': 1.574531, 'feature_19': 0.05837363}\n",
      "{'_id': ObjectId('6640bc7a28102c842b6781cc'), 'directory_name': 1, 'track_id': 1443, 'feature_0': 0.5880075, 'feature_1': 1.2159554, 'feature_2': -0.5742537, 'feature_3': -0.45545366, 'feature_4': 0.63128453, 'feature_5': -0.4425695, 'feature_6': 0.5723708, 'feature_7': 0.038429763, 'feature_8': 1.3389328, 'feature_9': 1.4831046, 'feature_10': 0.4834697, 'feature_11': -0.7029802, 'feature_12': -0.7984946, 'feature_13': -0.10341697, 'feature_14': 0.8272164, 'feature_15': 0.0790757, 'feature_16': 1.4358538, 'feature_17': 2.7954314, 'feature_18': 0.3659835, 'feature_19': -0.31979653}\n",
      "{'_id': ObjectId('6640bc7a28102c842b6781cd'), 'directory_name': 1, 'track_id': 1544, 'feature_0': -2.6041114, 'feature_1': -0.15399587, 'feature_2': -1.8948014, 'feature_3': -1.146371, 'feature_4': -1.570471, 'feature_5': -1.4005693, 'feature_6': -0.86139244, 'feature_7': -1.5892258, 'feature_8': 0.42434734, 'feature_9': -1.6508489, 'feature_10': 0.071072534, 'feature_11': 3.8326645, 'feature_12': 0.86624193, 'feature_13': -0.58979964, 'feature_14': 1.4761965, 'feature_15': -1.2330105, 'feature_16': -3.6184626, 'feature_17': 1.1895467, 'feature_18': 2.92362, 'feature_19': 5.1235657}\n",
      "{'_id': ObjectId('6640bc7a28102c842b6781ce'), 'directory_name': 1, 'track_id': 1893, 'feature_0': -1.4646351, 'feature_1': 1.358088, 'feature_2': 0.49818447, 'feature_3': 0.21544203, 'feature_4': 1.096463, 'feature_5': 0.7184948, 'feature_6': 0.21435301, 'feature_7': -0.48565382, 'feature_8': 0.87008566, 'feature_9': 0.011727954, 'feature_10': 0.7852518, 'feature_11': -0.0967273, 'feature_12': 0.28370067, 'feature_13': -0.33976224, 'feature_14': -0.3227277, 'feature_15': 1.1915606, 'feature_16': 0.68889505, 'feature_17': 0.28612536, 'feature_18': 0.013494985, 'feature_19': -0.020079171}\n",
      "{'_id': ObjectId('6640bc7a28102c842b6781cf'), 'directory_name': 1, 'track_id': 1075, 'feature_0': -0.90950865, 'feature_1': -0.868838, 'feature_2': 1.1056961, 'feature_3': 0.19049008, 'feature_4': 1.3953359, 'feature_5': 1.2360615, 'feature_6': 1.3101572, 'feature_7': 1.3766675, 'feature_8': 1.3156879, 'feature_9': 0.64477646, 'feature_10': 1.1921283, 'feature_11': 0.86274856, 'feature_12': 1.3080856, 'feature_13': 1.5436984, 'feature_14': 1.1963308, 'feature_15': 1.5749632, 'feature_16': 1.2399822, 'feature_17': 1.8948132, 'feature_18': 1.9516481, 'feature_19': 1.8958066}\n",
      "{'_id': ObjectId('6640bc7a28102c842b6781d0'), 'directory_name': 1, 'track_id': 1196, 'feature_0': -0.073609196, 'feature_1': 0.8222654, 'feature_2': 0.6073293, 'feature_3': 0.7738796, 'feature_4': 1.2844408, 'feature_5': 1.070674, 'feature_6': 0.51100653, 'feature_7': 0.9656332, 'feature_8': 1.0260013, 'feature_9': 1.4579545, 'feature_10': 1.0455055, 'feature_11': 0.91510415, 'feature_12': 0.30235162, 'feature_13': 0.8957364, 'feature_14': 0.79369295, 'feature_15': 0.5782906, 'feature_16': -0.10877115, 'feature_17': 0.3874421, 'feature_18': 0.19106404, 'feature_19': -0.0058967154}\n",
      "{'_id': ObjectId('6640bc7a28102c842b6781d1'), 'directory_name': 1, 'track_id': 1278, 'feature_0': -0.32237056, 'feature_1': 0.9316236, 'feature_2': 0.62655514, 'feature_3': -0.1679823, 'feature_4': 0.08406016, 'feature_5': -1.0135394, 'feature_6': -0.599401, 'feature_7': -0.48510882, 'feature_8': -1.1611286, 'feature_9': 0.62676007, 'feature_10': -0.4145567, 'feature_11': 0.29254004, 'feature_12': 0.18267344, 'feature_13': 0.33227447, 'feature_14': -0.1258087, 'feature_15': -0.012413842, 'feature_16': -0.2571188, 'feature_17': -0.5708342, 'feature_18': 0.2981605, 'feature_19': -0.13317947}\n",
      "{'_id': ObjectId('6640bc7a28102c842b6781d2'), 'directory_name': 1, 'track_id': 1510, 'feature_0': -1.6627537, 'feature_1': -1.4345874, 'feature_2': 0.7709452, 'feature_3': -1.6832826, 'feature_4': 0.8217539, 'feature_5': -1.3790439, 'feature_6': -1.7868882, 'feature_7': 0.03139809, 'feature_8': -3.1517763, 'feature_9': -0.74394095, 'feature_10': -2.0729053, 'feature_11': 1.2297592, 'feature_12': -1.1852732, 'feature_13': 0.493016, 'feature_14': -1.0081322, 'feature_15': -0.09895123, 'feature_16': 0.08005468, 'feature_17': -1.6949172, 'feature_18': -0.42940384, 'feature_19': -0.60017955}\n",
      "{'_id': ObjectId('6640bc7a28102c842b6781d3'), 'directory_name': 1, 'track_id': 1276, 'feature_0': 0.7768363, 'feature_1': 0.34576762, 'feature_2': 1.1057996, 'feature_3': -0.95288074, 'feature_4': 0.47152793, 'feature_5': -0.39313155, 'feature_6': 0.4930816, 'feature_7': 0.46979046, 'feature_8': 0.42555705, 'feature_9': 0.8350387, 'feature_10': 0.83666396, 'feature_11': 0.48914167, 'feature_12': 1.2876668, 'feature_13': 0.4781659, 'feature_14': 1.312645, 'feature_15': 0.5940951, 'feature_16': 0.2195092, 'feature_17': 1.0263638, 'feature_18': 1.3085903, 'feature_19': 0.34337065}\n",
      "{'_id': ObjectId('6640bc7a28102c842b6781d4'), 'directory_name': 1, 'track_id': 1673, 'feature_0': -2.0806582, 'feature_1': 1.6059477, 'feature_2': 0.3561277, 'feature_3': -1.7915511, 'feature_4': -0.111815795, 'feature_5': -0.5560248, 'feature_6': -0.26584634, 'feature_7': -0.010117436, 'feature_8': -0.9241678, 'feature_9': -1.7125623, 'feature_10': -1.0233153, 'feature_11': -1.1053877, 'feature_12': 0.8492204, 'feature_13': 1.6327136, 'feature_14': 0.72038305, 'feature_15': 0.06812207, 'feature_16': -0.54458064, 'feature_17': 0.5736182, 'feature_18': 1.3138038, 'feature_19': 0.73704916}\n",
      "{'_id': ObjectId('6640bc7a28102c842b6781d5'), 'directory_name': 1, 'track_id': 1683, 'feature_0': 0.011368682, 'feature_1': -0.51862216, 'feature_2': 0.27593756, 'feature_3': -1.0024884, 'feature_4': -0.5473327, 'feature_5': -0.33302194, 'feature_6': -0.29375696, 'feature_7': -0.8225472, 'feature_8': -0.10432183, 'feature_9': -0.2526587, 'feature_10': 0.14166169, 'feature_11': 0.35850424, 'feature_12': -0.31611675, 'feature_13': 0.2814385, 'feature_14': -0.1684896, 'feature_15': -0.87106043, 'feature_16': -0.55432045, 'feature_17': -0.97483516, 'feature_18': -0.863095, 'feature_19': -1.1969312}\n",
      "{'_id': ObjectId('6640bc7a28102c842b6781d6'), 'directory_name': 1, 'track_id': 1259, 'feature_0': 0.09270628, 'feature_1': -0.579654, 'feature_2': -1.2180822, 'feature_3': 0.15014231, 'feature_4': -0.2879713, 'feature_5': -0.030967286, 'feature_6': 0.10161106, 'feature_7': 0.29286906, 'feature_8': 0.5366255, 'feature_9': 0.47850445, 'feature_10': -0.053139668, 'feature_11': 0.27167594, 'feature_12': -0.34833068, 'feature_13': -0.03679412, 'feature_14': 0.48271665, 'feature_15': 0.47316027, 'feature_16': 0.37966835, 'feature_17': 0.15969634, 'feature_18': 0.22461373, 'feature_19': -0.02087274}\n",
      "{'_id': ObjectId('6640bc7a28102c842b6781d7'), 'directory_name': 1, 'track_id': 1686, 'feature_0': 0.073457025, 'feature_1': -1.1144302, 'feature_2': 0.88879174, 'feature_3': 0.043703746, 'feature_4': -0.119919024, 'feature_5': 0.057479724, 'feature_6': -0.7746447, 'feature_7': -0.30566224, 'feature_8': -0.2137429, 'feature_9': -1.1005125, 'feature_10': -0.7273612, 'feature_11': 0.32518908, 'feature_12': -0.69851035, 'feature_13': -1.2693955, 'feature_14': -2.2326689, 'feature_15': -1.1831172, 'feature_16': -0.4189272, 'feature_17': -1.686709, 'feature_18': -1.7217702, 'feature_19': -1.5901892}\n",
      "{'_id': ObjectId('6640bc7a28102c842b6781d8'), 'directory_name': 1, 'track_id': 1039, 'feature_0': 1.2712883, 'feature_1': -0.6429161, 'feature_2': -0.60886675, 'feature_3': 0.6781216, 'feature_4': 1.1711874, 'feature_5': 0.61951846, 'feature_6': 0.7709096, 'feature_7': 0.30909273, 'feature_8': 1.3437998, 'feature_9': 0.6833904, 'feature_10': 1.7039464, 'feature_11': 1.207606, 'feature_12': 1.5430322, 'feature_13': 1.8831348, 'feature_14': 0.4234787, 'feature_15': 1.3446742, 'feature_16': 1.3259294, 'feature_17': 0.6807912, 'feature_18': 0.7768952, 'feature_19': 0.45413345}\n",
      "{'_id': ObjectId('6640bc7a28102c842b6781d9'), 'directory_name': 1, 'track_id': 1736, 'feature_0': 0.053568635, 'feature_1': 0.464293, 'feature_2': -1.340185, 'feature_3': 0.21119875, 'feature_4': -0.38284153, 'feature_5': 1.5935415, 'feature_6': -0.46090686, 'feature_7': -0.42526308, 'feature_8': 0.15386711, 'feature_9': 0.77757335, 'feature_10': -1.6404458, 'feature_11': -0.18682149, 'feature_12': 0.59790015, 'feature_13': -0.35128918, 'feature_14': -1.0697665, 'feature_15': -0.5363202, 'feature_16': -0.5209682, 'feature_17': -0.36203697, 'feature_18': -0.6939513, 'feature_19': 0.023616163}\n",
      "{'_id': ObjectId('6640bc7a28102c842b6781da'), 'directory_name': 1, 'track_id': 1925, 'feature_0': 0.23557971, 'feature_1': 0.11965463, 'feature_2': 1.6033065, 'feature_3': 0.6570224, 'feature_4': 1.6321355, 'feature_5': -0.5004846, 'feature_6': 0.6736817, 'feature_7': 0.4389865, 'feature_8': -0.06792694, 'feature_9': 0.41641298, 'feature_10': 0.34939516, 'feature_11': -0.3121104, 'feature_12': 0.2285631, 'feature_13': -0.09503905, 'feature_14': 0.36126432, 'feature_15': -0.0032342009, 'feature_16': -0.79959804, 'feature_17': -0.53973264, 'feature_18': -0.15352388, 'feature_19': 0.21661371}\n",
      "{'_id': ObjectId('6640bc7a28102c842b6781db'), 'directory_name': 1, 'track_id': 1649, 'feature_0': 1.3174274, 'feature_1': 0.021330334, 'feature_2': 0.24199666, 'feature_3': -0.7312125, 'feature_4': 0.18694228, 'feature_5': 0.72196054, 'feature_6': 0.5685583, 'feature_7': 0.56252605, 'feature_8': 0.4584199, 'feature_9': 0.7644122, 'feature_10': 0.19768414, 'feature_11': -0.08256828, 'feature_12': -0.7765105, 'feature_13': 0.15381075, 'feature_14': 0.017106123, 'feature_15': 0.15021044, 'feature_16': -0.09456136, 'feature_17': 0.04297774, 'feature_18': 0.71763015, 'feature_19': 0.3370568}\n",
      "{'_id': ObjectId('6640bc7a28102c842b6781dc'), 'directory_name': 1, 'track_id': 1704, 'feature_0': -0.7998532, 'feature_1': -0.41246915, 'feature_2': -0.47534925, 'feature_3': 0.9971769, 'feature_4': -0.34137946, 'feature_5': 0.5932503, 'feature_6': -1.1002733, 'feature_7': -2.1280098, 'feature_8': -1.4139925, 'feature_9': -2.0896194, 'feature_10': -0.35419998, 'feature_11': -1.788511, 'feature_12': -1.4720277, 'feature_13': -1.049387, 'feature_14': -1.3997033, 'feature_15': -2.0253623, 'feature_16': -1.551481, 'feature_17': 0.33688655, 'feature_18': 0.6141748, 'feature_19': 0.098270275}\n",
      "{'_id': ObjectId('6640bc7a28102c842b6781dd'), 'directory_name': 1, 'track_id': 1082, 'feature_0': -1.7490975, 'feature_1': 1.143436, 'feature_2': -1.0334301, 'feature_3': -2.7240136, 'feature_4': -1.7488613, 'feature_5': -2.6693504, 'feature_6': -1.1409692, 'feature_7': -1.2340221, 'feature_8': -2.1466353, 'feature_9': -1.3528501, 'feature_10': -0.070266694, 'feature_11': -2.2609005, 'feature_12': -3.0325274, 'feature_13': -1.6569861, 'feature_14': -1.9456162, 'feature_15': -0.99183166, 'feature_16': 0.19304632, 'feature_17': 1.5063092, 'feature_18': 1.3411386, 'feature_19': 0.5970188}\n",
      "{'_id': ObjectId('6640bc7a28102c842b6781de'), 'directory_name': 1, 'track_id': 1661, 'feature_0': 1.5799665, 'feature_1': -1.0687245, 'feature_2': 0.051132325, 'feature_3': 0.33994788, 'feature_4': -0.86447287, 'feature_5': 0.41333005, 'feature_6': -0.34838596, 'feature_7': 0.016842697, 'feature_8': -0.17073816, 'feature_9': -0.15069073, 'feature_10': 0.85074824, 'feature_11': 0.25641364, 'feature_12': -0.26619786, 'feature_13': 0.12421455, 'feature_14': 0.07759522, 'feature_15': -0.29825225, 'feature_16': -0.12773263, 'feature_17': 0.08478168, 'feature_18': -0.14308308, 'feature_19': -0.1855331}\n",
      "{'_id': ObjectId('6640bc7a28102c842b6781df'), 'directory_name': 1, 'track_id': 1688, 'feature_0': 0.077375285, 'feature_1': -0.5947148, 'feature_2': 0.7484065, 'feature_3': -0.257048, 'feature_4': -0.6763031, 'feature_5': -1.3331585, 'feature_6': 1.3603636, 'feature_7': -1.790597, 'feature_8': -0.32809588, 'feature_9': -0.42628872, 'feature_10': -1.9465235, 'feature_11': 0.17197981, 'feature_12': -0.7962872, 'feature_13': -1.5500917, 'feature_14': 0.002040329, 'feature_15': -2.023372, 'feature_16': 0.38534182, 'feature_17': -1.0554231, 'feature_18': -0.88983697, 'feature_19': -0.7808278}\n",
      "{'_id': ObjectId('6640bc7a28102c842b6781e0'), 'directory_name': 1, 'track_id': 1083, 'feature_0': 0.8368318, 'feature_1': 0.5555821, 'feature_2': -0.92625326, 'feature_3': -0.18864094, 'feature_4': -0.42625567, 'feature_5': 0.12685208, 'feature_6': 0.67371655, 'feature_7': 2.4263446, 'feature_8': 1.082961, 'feature_9': 0.36235058, 'feature_10': 1.064495, 'feature_11': 0.20120876, 'feature_12': 0.78312534, 'feature_13': 1.9269106, 'feature_14': -0.3804046, 'feature_15': -0.032887775, 'feature_16': 0.02169433, 'feature_17': -1.3461245, 'feature_18': -0.56692034, 'feature_19': 0.43511242}\n",
      "{'_id': ObjectId('6640bc7a28102c842b6781e1'), 'directory_name': 1, 'track_id': 1929, 'feature_0': 0.20173652, 'feature_1': 1.2855473, 'feature_2': 1.1189735, 'feature_3': 0.30682346, 'feature_4': 1.6268269, 'feature_5': -0.51964015, 'feature_6': 1.6683022, 'feature_7': -0.010917851, 'feature_8': -0.15679774, 'feature_9': 1.67552, 'feature_10': -0.87840396, 'feature_11': 0.15253523, 'feature_12': 1.9911253, 'feature_13': 0.6067751, 'feature_14': 1.2372656, 'feature_15': 0.9621882, 'feature_16': -0.5168125, 'feature_17': 0.021138446, 'feature_18': 0.8037574, 'feature_19': -0.47293144}\n",
      "{'_id': ObjectId('6640bc7a28102c842b6781e2'), 'directory_name': 1, 'track_id': 1073, 'feature_0': 0.6639811, 'feature_1': -0.440773, 'feature_2': 0.8071336, 'feature_3': -0.052495018, 'feature_4': -0.34698513, 'feature_5': 0.60128653, 'feature_6': 0.9449939, 'feature_7': 0.4807877, 'feature_8': 0.8499938, 'feature_9': 0.95956767, 'feature_10': 1.1231713, 'feature_11': 0.095937274, 'feature_12': 0.5799547, 'feature_13': 0.56294847, 'feature_14': 0.112388685, 'feature_15': 0.8805035, 'feature_16': 0.94227695, 'feature_17': 0.40753725, 'feature_18': 0.67668736, 'feature_19': 0.24064068}\n",
      "{'_id': ObjectId('6640bc7a28102c842b6781e3'), 'directory_name': 1, 'track_id': 1666, 'feature_0': -0.2021063, 'feature_1': -0.4763562, 'feature_2': -0.8059323, 'feature_3': 0.70812166, 'feature_4': -0.55419874, 'feature_5': 0.05944388, 'feature_6': -0.28183478, 'feature_7': 0.4699268, 'feature_8': -0.5312615, 'feature_9': 0.611006, 'feature_10': -0.7748605, 'feature_11': -1.7038845, 'feature_12': -0.24781641, 'feature_13': 0.53265554, 'feature_14': 3.0343978, 'feature_15': 0.011915815, 'feature_16': 1.483587, 'feature_17': 0.5244262, 'feature_18': 1.7015138, 'feature_19': 1.2172709}\n",
      "{'_id': ObjectId('6640bc7a28102c842b6781e4'), 'directory_name': 1, 'track_id': 1883, 'feature_0': 0.8256563, 'feature_1': -1.2872914, 'feature_2': -1.3626704, 'feature_3': 1.6745223, 'feature_4': 0.5273558, 'feature_5': -0.08163232, 'feature_6': 0.45779642, 'feature_7': 0.5209127, 'feature_8': 1.1950711, 'feature_9': 0.13027991, 'feature_10': 0.9163411, 'feature_11': 1.141904, 'feature_12': 1.8609146, 'feature_13': 0.6715157, 'feature_14': 0.82719386, 'feature_15': 0.70805156, 'feature_16': -1.8970976, 'feature_17': 0.4964872, 'feature_18': 0.3436747, 'feature_19': -0.5525178}\n",
      "{'_id': ObjectId('6640bc7a28102c842b6781e5'), 'directory_name': 1, 'track_id': 1642, 'feature_0': 0.29250804, 'feature_1': -0.802752, 'feature_2': 0.6751721, 'feature_3': -1.144559, 'feature_4': -0.5797362, 'feature_5': -0.2861463, 'feature_6': -0.26921374, 'feature_7': 0.14569345, 'feature_8': -0.6208037, 'feature_9': -0.01955423, 'feature_10': 0.09567578, 'feature_11': 0.020716151, 'feature_12': 0.35119674, 'feature_13': 0.37196183, 'feature_14': -1.1562269, 'feature_15': -0.38080177, 'feature_16': -0.428411, 'feature_17': -0.71736556, 'feature_18': -0.10275592, 'feature_19': 0.014582511}\n",
      "{'_id': ObjectId('6640bc7a28102c842b6781e6'), 'directory_name': 1, 'track_id': 1702, 'feature_0': -0.4981272, 'feature_1': 2.30104, 'feature_2': -0.44993016, 'feature_3': -0.6908216, 'feature_4': -0.026180808, 'feature_5': -1.3262228, 'feature_6': -0.6748753, 'feature_7': -1.0482844, 'feature_8': -2.0393353, 'feature_9': -1.3709345, 'feature_10': -1.4481602, 'feature_11': -1.02797, 'feature_12': -1.2163829, 'feature_13': -0.45656168, 'feature_14': -0.57704926, 'feature_15': -0.5293875, 'feature_16': -0.88954926, 'feature_17': -0.6397889, 'feature_18': -0.5389671, 'feature_19': -0.6828447}\n",
      "{'_id': ObjectId('6640bc7a28102c842b6781e7'), 'directory_name': 1, 'track_id': 1733, 'feature_0': 1.4583421, 'feature_1': -0.48612007, 'feature_2': -0.46182153, 'feature_3': 0.07997967, 'feature_4': -0.85207826, 'feature_5': 0.7977217, 'feature_6': -1.169299, 'feature_7': 0.4337865, 'feature_8': -0.9254134, 'feature_9': 0.082490094, 'feature_10': 0.31596747, 'feature_11': -0.34250697, 'feature_12': 0.20044613, 'feature_13': -0.0073751546, 'feature_14': 0.06326305, 'feature_15': -0.016782064, 'feature_16': -1.292913, 'feature_17': -1.2085705, 'feature_18': -0.51014274, 'feature_19': -0.31483147}\n",
      "{'_id': ObjectId('6640bc7a28102c842b6781e8'), 'directory_name': 1, 'track_id': 1417, 'feature_0': 0.28370398, 'feature_1': 0.08692869, 'feature_2': -0.4242199, 'feature_3': 0.105918676, 'feature_4': 0.86181116, 'feature_5': -0.2579076, 'feature_6': -0.28595096, 'feature_7': 1.4911714, 'feature_8': 1.066501, 'feature_9': -0.3718247, 'feature_10': 0.88136566, 'feature_11': 1.3023798, 'feature_12': -0.85226786, 'feature_13': -0.620701, 'feature_14': -0.9416806, 'feature_15': -0.721246, 'feature_16': 0.0638958, 'feature_17': 0.9274819, 'feature_18': 0.055746857, 'feature_19': 0.6257441}\n",
      "{'_id': ObjectId('6640bc7a28102c842b6781e9'), 'directory_name': 1, 'track_id': 1891, 'feature_0': 0.35738006, 'feature_1': 1.2245582, 'feature_2': -1.9959356, 'feature_3': 0.21196328, 'feature_4': -0.68984425, 'feature_5': -0.24894693, 'feature_6': 0.21192977, 'feature_7': 0.5390866, 'feature_8': 0.68900174, 'feature_9': -0.6189894, 'feature_10': -0.38809744, 'feature_11': 0.47686365, 'feature_12': 0.50389504, 'feature_13': -0.6554719, 'feature_14': 0.8853572, 'feature_15': 2.802477, 'feature_16': 1.0212657, 'feature_17': -0.905216, 'feature_18': 0.78411776, 'feature_19': 1.2443691}\n",
      "{'_id': ObjectId('6640bc7a28102c842b6781ea'), 'directory_name': 1, 'track_id': 1277, 'feature_0': 0.37748006, 'feature_1': -0.9734395, 'feature_2': 0.009698582, 'feature_3': -0.36613616, 'feature_4': 0.08582629, 'feature_5': -0.17970257, 'feature_6': 0.42563155, 'feature_7': -0.16936685, 'feature_8': 0.6984933, 'feature_9': 0.13978925, 'feature_10': 0.9244801, 'feature_11': -0.6009541, 'feature_12': -0.1712332, 'feature_13': -0.25304776, 'feature_14': 0.19134445, 'feature_15': -0.1832174, 'feature_16': 0.9068922, 'feature_17': 0.3856793, 'feature_18': -0.2952407, 'feature_19': 0.40657273}\n",
      "{'_id': ObjectId('6640bc7a28102c842b6781eb'), 'directory_name': 1, 'track_id': 1195, 'feature_0': -0.85291344, 'feature_1': 2.096454, 'feature_2': 0.21022864, 'feature_3': 0.8451618, 'feature_4': 1.5625354, 'feature_5': 0.34884214, 'feature_6': 1.0234443, 'feature_7': -0.72129565, 'feature_8': 0.19033192, 'feature_9': -0.2343802, 'feature_10': -0.018507024, 'feature_11': 0.0813499, 'feature_12': 0.827781, 'feature_13': -0.1892725, 'feature_14': 0.09452011, 'feature_15': -0.72555655, 'feature_16': -1.9584717, 'feature_17': -1.6712773, 'feature_18': -0.4386538, 'feature_19': 0.070063084}\n",
      "{'_id': ObjectId('6640bc7a28102c842b6781ec'), 'directory_name': 1, 'track_id': 1685, 'feature_0': -0.9023488, 'feature_1': -0.10048959, 'feature_2': -0.47787872, 'feature_3': -0.02938604, 'feature_4': -0.26790255, 'feature_5': -0.60241187, 'feature_6': 0.37137, 'feature_7': -0.99885595, 'feature_8': -0.46550488, 'feature_9': -1.3019127, 'feature_10': -0.7076717, 'feature_11': 0.6144324, 'feature_12': 0.04764481, 'feature_13': -0.93956167, 'feature_14': -1.1748549, 'feature_15': -1.4085964, 'feature_16': -0.7105059, 'feature_17': -0.7633592, 'feature_18': -1.8452911, 'feature_19': -1.6160321}\n",
      "{'_id': ObjectId('6640bc7a28102c842b6781ed'), 'directory_name': 1, 'track_id': 1681, 'feature_0': 0.08984901, 'feature_1': -1.1659887, 'feature_2': 0.64771765, 'feature_3': -0.58803755, 'feature_4': 0.6389394, 'feature_5': -0.16468364, 'feature_6': 0.49356288, 'feature_7': -1.3582381, 'feature_8': -0.30720517, 'feature_9': 0.3851735, 'feature_10': -0.4833676, 'feature_11': 0.5253159, 'feature_12': 0.53907585, 'feature_13': -0.7007308, 'feature_14': 0.69392216, 'feature_15': -2.2468817, 'feature_16': -1.2380594, 'feature_17': -1.2073292, 'feature_18': -1.6431862, 'feature_19': -0.17335357}\n",
      "{'_id': ObjectId('6640bc7a28102c842b6781ee'), 'directory_name': 1, 'track_id': 1482, 'feature_0': -1.3564422, 'feature_1': 0.7655123, 'feature_2': 3.0486765, 'feature_3': 0.5105397, 'feature_4': 1.9184861, 'feature_5': 1.8469018, 'feature_6': 1.6405382, 'feature_7': 1.1505996, 'feature_8': 1.9165198, 'feature_9': 1.5839634, 'feature_10': 1.3688871, 'feature_11': 0.48132363, 'feature_12': 0.0520868, 'feature_13': 0.27914745, 'feature_14': 0.7627544, 'feature_15': 2.020825, 'feature_16': 1.8505411, 'feature_17': 0.84977525, 'feature_18': 0.81585073, 'feature_19': 0.6160218}\n",
      "{'_id': ObjectId('6640bc7a28102c842b6781ef'), 'directory_name': 1, 'track_id': 1066, 'feature_0': -1.1560236, 'feature_1': 1.6201288, 'feature_2': -0.4928456, 'feature_3': 0.59459, 'feature_4': 0.042368304, 'feature_5': 0.14222936, 'feature_6': -0.12307249, 'feature_7': 0.24520792, 'feature_8': 0.33142185, 'feature_9': 0.75310624, 'feature_10': 0.82778645, 'feature_11': 0.5100799, 'feature_12': -0.29503155, 'feature_13': 0.9141813, 'feature_14': 0.6692049, 'feature_15': 1.2311888, 'feature_16': 0.9231234, 'feature_17': 0.86071444, 'feature_18': 0.54314476, 'feature_19': 0.40958717}\n",
      "{'_id': ObjectId('6640bc7a28102c842b6781f0'), 'directory_name': 1, 'track_id': 1427, 'feature_0': -0.098036334, 'feature_1': 1.0588211, 'feature_2': -0.719797, 'feature_3': -0.31642133, 'feature_4': -0.43598458, 'feature_5': -0.32254273, 'feature_6': 0.55554724, 'feature_7': -0.9668853, 'feature_8': 0.1945238, 'feature_9': 0.38291243, 'feature_10': 0.8070735, 'feature_11': 0.4994539, 'feature_12': 0.35415497, 'feature_13': 1.7451985, 'feature_14': 1.5239447, 'feature_15': 0.8387043, 'feature_16': -0.25892138, 'feature_17': 0.795792, 'feature_18': 0.8460966, 'feature_19': 0.20585698}\n",
      "{'_id': ObjectId('6640bc7a28102c842b6781f1'), 'directory_name': 1, 'track_id': 1689, 'feature_0': -0.08179086, 'feature_1': -0.90103596, 'feature_2': 0.09369927, 'feature_3': 0.4514119, 'feature_4': -1.2469286, 'feature_5': -1.3786039, 'feature_6': -0.044936594, 'feature_7': -0.2971677, 'feature_8': -1.2518265, 'feature_9': -2.1603465, 'feature_10': -0.8290033, 'feature_11': 0.037915397, 'feature_12': -1.2841457, 'feature_13': -0.7973492, 'feature_14': 0.059914425, 'feature_15': -1.1002913, 'feature_16': 0.7515342, 'feature_17': -0.38585928, 'feature_18': -1.5883106, 'feature_19': -1.7832534}\n",
      "{'_id': ObjectId('6640bc7a28102c842b6781f2'), 'directory_name': 1, 'track_id': 1701, 'feature_0': -1.0314379, 'feature_1': 0.64057976, 'feature_2': -1.0919968, 'feature_3': -1.0477988, 'feature_4': -2.125403, 'feature_5': -0.51102537, 'feature_6': -3.1813607, 'feature_7': -1.9944744, 'feature_8': -1.2959207, 'feature_9': -0.5817451, 'feature_10': -1.2648929, 'feature_11': -3.1577168, 'feature_12': -1.4983009, 'feature_13': -1.5087237, 'feature_14': -0.9280049, 'feature_15': -0.123200916, 'feature_16': 2.0059607, 'feature_17': 1.7560371, 'feature_18': 0.24785694, 'feature_19': 1.536}\n",
      "{'_id': ObjectId('6640bc7a28102c842b6781f3'), 'directory_name': 1, 'track_id': 1687, 'feature_0': -0.6275721, 'feature_1': -0.22815052, 'feature_2': 0.2365641, 'feature_3': -1.4519392, 'feature_4': -1.5296293, 'feature_5': -1.1963212, 'feature_6': -0.6378874, 'feature_7': -1.3747681, 'feature_8': -1.5233911, 'feature_9': -1.2441311, 'feature_10': -0.5961936, 'feature_11': -0.31304765, 'feature_12': -1.1587895, 'feature_13': -1.8579044, 'feature_14': -1.4341673, 'feature_15': -1.4777792, 'feature_16': -0.89492434, 'feature_17': -1.5679123, 'feature_18': -0.7461935, 'feature_19': -0.8142208}\n",
      "{'_id': ObjectId('6640bc7a28102c842b6781f4'), 'directory_name': 1, 'track_id': 1040, 'feature_0': 1.476276, 'feature_1': -0.9778228, 'feature_2': -0.17771228, 'feature_3': 0.62018484, 'feature_4': 0.45690688, 'feature_5': 2.4067624, 'feature_6': -0.609595, 'feature_7': 0.6465061, 'feature_8': 0.48605576, 'feature_9': 0.081916116, 'feature_10': -0.4007112, 'feature_11': 0.115499474, 'feature_12': 0.85420895, 'feature_13': -0.2383236, 'feature_14': -0.31688946, 'feature_15': -0.019430062, 'feature_16': 0.12254994, 'feature_17': 0.22004832, 'feature_18': 0.121767946, 'feature_19': 0.54312885}\n",
      "{'_id': ObjectId('6640bc7a28102c842b6781f5'), 'directory_name': 1, 'track_id': 1680, 'feature_0': -0.5542313, 'feature_1': -0.15911582, 'feature_2': 0.08780278, 'feature_3': 0.22404127, 'feature_4': -0.89704496, 'feature_5': -0.7393717, 'feature_6': 0.002354734, 'feature_7': -1.2757161, 'feature_8': -0.22654442, 'feature_9': -1.6279274, 'feature_10': -1.0451837, 'feature_11': -0.4025022, 'feature_12': -0.67667794, 'feature_13': -1.4576916, 'feature_14': 0.199373, 'feature_15': 0.4214609, 'feature_16': 0.29994547, 'feature_17': -0.84647757, 'feature_18': -2.0818737, 'feature_19': -1.3025523}\n",
      "{'_id': ObjectId('6640bc7a28102c842b6781f6'), 'directory_name': 1, 'track_id': 1197, 'feature_0': -1.3944176, 'feature_1': 2.416235, 'feature_2': 0.39170974, 'feature_3': 0.56208384, 'feature_4': 1.4998126, 'feature_5': 0.054572485, 'feature_6': 0.84422183, 'feature_7': -0.15557705, 'feature_8': -0.2904862, 'feature_9': -0.26418766, 'feature_10': -0.17934604, 'feature_11': -0.63216263, 'feature_12': 0.03039833, 'feature_13': -0.83923167, 'feature_14': -0.36268115, 'feature_15': -0.30310974, 'feature_16': -0.9996105, 'feature_17': -0.29770112, 'feature_18': 0.3049404, 'feature_19': 0.022517368}\n",
      "{'_id': ObjectId('6640bc7a28102c842b6781f7'), 'directory_name': 1, 'track_id': 1735, 'feature_0': 1.3262624, 'feature_1': -0.7971997, 'feature_2': 0.06876384, 'feature_3': -0.07107099, 'feature_4': -1.630833, 'feature_5': 0.6583643, 'feature_6': -1.8750951, 'feature_7': 0.20395209, 'feature_8': -0.6554601, 'feature_9': 0.6289112, 'feature_10': -0.49865833, 'feature_11': -0.6703127, 'feature_12': -0.6865629, 'feature_13': -0.22495818, 'feature_14': -1.1773663, 'feature_15': -0.546337, 'feature_16': -0.78584135, 'feature_17': -1.6712554, 'feature_18': -1.5698167, 'feature_19': -0.6440776}\n",
      "{'_id': ObjectId('6640bc7a28102c842b6781f8'), 'directory_name': 1, 'track_id': 1720, 'feature_0': 0.37479365, 'feature_1': -0.92054474, 'feature_2': 1.0669482, 'feature_3': -0.44150195, 'feature_4': -1.1956065, 'feature_5': 2.2224185, 'feature_6': -1.950928, 'feature_7': 0.54147315, 'feature_8': 0.35246286, 'feature_9': -1.2694796, 'feature_10': 0.23060907, 'feature_11': -0.085985556, 'feature_12': 1.9091315, 'feature_13': -0.62056535, 'feature_14': 0.0075363964, 'feature_15': 0.84772587, 'feature_16': 0.030418321, 'feature_17': 0.5669638, 'feature_18': 0.29060125, 'feature_19': 0.082684845}\n",
      "{'_id': ObjectId('6640bc7a28102c842b6781f9'), 'directory_name': 1, 'track_id': 1924, 'feature_0': 1.1126063, 'feature_1': -1.3289816, 'feature_2': 1.2805623, 'feature_3': 1.0853101, 'feature_4': 1.5059295, 'feature_5': -0.37659627, 'feature_6': 2.1776898, 'feature_7': 1.7288121, 'feature_8': 0.5971314, 'feature_9': 0.03804878, 'feature_10': 0.26555806, 'feature_11': -0.30536672, 'feature_12': -0.51543945, 'feature_13': 0.9140302, 'feature_14': -0.7238355, 'feature_15': -0.90862936, 'feature_16': -0.9668203, 'feature_17': -1.1055176, 'feature_18': -0.53566444, 'feature_19': -1.4526561}\n",
      "{'_id': ObjectId('6640bc7a28102c842b6781fa'), 'directory_name': 1, 'track_id': 1663, 'feature_0': -0.11303539, 'feature_1': 0.12947491, 'feature_2': -1.734657, 'feature_3': 2.9514956, 'feature_4': -0.31385922, 'feature_5': 1.6748484, 'feature_6': -0.0963393, 'feature_7': 1.3572866, 'feature_8': 0.4997171, 'feature_9': 1.3330895, 'feature_10': 1.639205, 'feature_11': 0.60862327, 'feature_12': 0.39796346, 'feature_13': -0.033289246, 'feature_14': 0.004523691, 'feature_15': -0.67296517, 'feature_16': 0.6559214, 'feature_17': -0.68096554, 'feature_18': -0.41660053, 'feature_19': -0.08504242}\n",
      "{'_id': ObjectId('6640bc7a28102c842b6781fb'), 'directory_name': 1, 'track_id': 1249, 'feature_0': 1.6667721, 'feature_1': 0.64274365, 'feature_2': -0.10835805, 'feature_3': -0.07386199, 'feature_4': 0.21202508, 'feature_5': 1.0228829, 'feature_6': 0.390668, 'feature_7': 1.313299, 'feature_8': 0.26525116, 'feature_9': 0.76683974, 'feature_10': 0.6438965, 'feature_11': 0.54236674, 'feature_12': 0.8806688, 'feature_13': 1.1032926, 'feature_14': -0.031180413, 'feature_15': 0.9673615, 'feature_16': 0.27634138, 'feature_17': 1.0257668, 'feature_18': -0.3163729, 'feature_19': 0.8310217}\n",
      "{'_id': ObjectId('6640bc7a28102c842b6781fc'), 'directory_name': 1, 'track_id': 1684, 'feature_0': 0.07716752, 'feature_1': -0.23888184, 'feature_2': 0.56295985, 'feature_3': 0.19386646, 'feature_4': -0.53100336, 'feature_5': -0.6264129, 'feature_6': 0.95680183, 'feature_7': -0.60248846, 'feature_8': 0.15690535, 'feature_9': -0.43238473, 'feature_10': -0.7476635, 'feature_11': -0.020559575, 'feature_12': -0.9807944, 'feature_13': -0.79483175, 'feature_14': -0.35147476, 'feature_15': -0.6936115, 'feature_16': 0.368848, 'feature_17': -0.009467173, 'feature_18': -1.1484114, 'feature_19': -0.6526775}\n",
      "{'_id': ObjectId('6640bc7a28102c842b6781fd'), 'directory_name': 1, 'track_id': 1270, 'feature_0': 0.98884815, 'feature_1': -0.7239207, 'feature_2': -1.4871703, 'feature_3': 1.564864, 'feature_4': 0.59420425, 'feature_5': -1.8069539, 'feature_6': -1.743572, 'feature_7': -0.49325028, 'feature_8': -0.3509715, 'feature_9': 0.69124246, 'feature_10': 0.96304727, 'feature_11': 0.5531563, 'feature_12': 0.27708182, 'feature_13': 1.6113063, 'feature_14': -0.8762025, 'feature_15': 0.74196047, 'feature_16': -0.2490622, 'feature_17': 0.21225259, 'feature_18': -0.517065, 'feature_19': -0.41620505}\n",
      "{'_id': ObjectId('6640bc7a28102c842b6781fe'), 'directory_name': 1, 'track_id': 1703, 'feature_0': -1.7647372, 'feature_1': 1.5070293, 'feature_2': -0.4383138, 'feature_3': -2.4799502, 'feature_4': -0.74842477, 'feature_5': -0.5691468, 'feature_6': 0.6066561, 'feature_7': 0.9094907, 'feature_8': 0.76972985, 'feature_9': -0.8516331, 'feature_10': -2.4498267, 'feature_11': -2.2139568, 'feature_12': -1.9298512, 'feature_13': -1.8856149, 'feature_14': -1.601173, 'feature_15': -0.5216401, 'feature_16': 0.20387395, 'feature_17': 1.169651, 'feature_18': 0.30569327, 'feature_19': 0.21600762}\n",
      "{'_id': ObjectId('6640bc7a28102c842b6781ff'), 'directory_name': 1, 'track_id': 1706, 'feature_0': 1.3987732, 'feature_1': -1.3333778, 'feature_2': -1.728553, 'feature_3': 0.5895793, 'feature_4': -2.0959857, 'feature_5': -1.4482535, 'feature_6': -1.1940752, 'feature_7': -1.1578751, 'feature_8': -0.7864714, 'feature_9': -0.96220726, 'feature_10': -0.9298474, 'feature_11': -0.7320538, 'feature_12': -0.5375159, 'feature_13': 0.108589955, 'feature_14': -2.1465445, 'feature_15': 0.23893441, 'feature_16': -0.24966417, 'feature_17': 0.3990822, 'feature_18': -0.13047092, 'feature_19': 0.14583266}\n",
      "{'_id': ObjectId('6640bc7a28102c842b678200'), 'directory_name': 1, 'track_id': 1732, 'feature_0': 0.83437043, 'feature_1': -1.3021594, 'feature_2': 1.7311879, 'feature_3': -0.94470674, 'feature_4': 0.046442356, 'feature_5': 0.6905113, 'feature_6': -0.98242456, 'feature_7': 0.61434597, 'feature_8': -0.53686893, 'feature_9': 0.1288267, 'feature_10': -0.3759743, 'feature_11': -0.014876673, 'feature_12': -0.5303275, 'feature_13': -0.26327392, 'feature_14': 0.666986, 'feature_15': 0.8566271, 'feature_16': 0.2496571, 'feature_17': 0.07139238, 'feature_18': -0.72114277, 'feature_19': -1.3027067}\n",
      "{'_id': ObjectId('6640bc7a28102c842b678201'), 'directory_name': 1, 'track_id': 1193, 'feature_0': -0.46895435, 'feature_1': 0.8874702, 'feature_2': 1.7318995, 'feature_3': 0.6658103, 'feature_4': 1.3771988, 'feature_5': 0.8159682, 'feature_6': -0.036324214, 'feature_7': -0.36563435, 'feature_8': -0.76661795, 'feature_9': -0.54539984, 'feature_10': -0.5639492, 'feature_11': -0.57532215, 'feature_12': -0.65541714, 'feature_13': -1.1237513, 'feature_14': -0.80055434, 'feature_15': -0.52493477, 'feature_16': -0.6069079, 'feature_17': -1.0618461, 'feature_18': -0.9915845, 'feature_19': -0.41535679}\n",
      "{'_id': ObjectId('6640bc7a28102c842b678202'), 'directory_name': 1, 'track_id': 1102, 'feature_0': -1.129139, 'feature_1': -0.34635952, 'feature_2': 0.44826365, 'feature_3': -0.17153361, 'feature_4': 0.70541424, 'feature_5': 1.0455173, 'feature_6': 0.86406505, 'feature_7': 1.6460214, 'feature_8': 1.5398132, 'feature_9': 1.3868989, 'feature_10': 2.409244, 'feature_11': 1.6469866, 'feature_12': 1.271956, 'feature_13': 1.5806451, 'feature_14': 0.94582754, 'feature_15': 1.1802866, 'feature_16': 1.1122859, 'feature_17': 0.9691488, 'feature_18': 1.2969301, 'feature_19': 0.6675074}\n",
      "{'_id': ObjectId('6640bc7a28102c842b678203'), 'directory_name': 1, 'track_id': 1682, 'feature_0': -0.028300738, 'feature_1': -0.7109996, 'feature_2': 0.22004527, 'feature_3': -0.15821685, 'feature_4': -0.48533952, 'feature_5': -1.1282015, 'feature_6': 0.27302372, 'feature_7': -1.8373839, 'feature_8': -1.5037893, 'feature_9': -1.4956465, 'feature_10': -1.4352384, 'feature_11': -0.10083188, 'feature_12': -0.76174897, 'feature_13': -1.3690276, 'feature_14': 0.11901704, 'feature_15': -0.6287893, 'feature_16': 0.0674188, 'feature_17': -0.23540103, 'feature_18': -0.65186995, 'feature_19': -0.6601114}\n",
      "{'_id': ObjectId('6640bc7a28102c842b678204'), 'directory_name': 1, 'track_id': 1930, 'feature_0': 0.44469294, 'feature_1': -0.12194239, 'feature_2': -0.20728536, 'feature_3': 1.4828631, 'feature_4': 1.7887403, 'feature_5': 0.05667931, 'feature_6': 0.24624915, 'feature_7': 1.1507096, 'feature_8': 0.09974254, 'feature_9': 0.49732634, 'feature_10': -0.019623168, 'feature_11': -0.07452595, 'feature_12': -0.5165679, 'feature_13': -0.5566631, 'feature_14': 0.7044622, 'feature_15': 0.7014988, 'feature_16': 1.1332598, 'feature_17': 0.54317844, 'feature_18': -1.3481375, 'feature_19': -0.73691404}\n"
     ]
    }
   ],
   "source": [
    "for doc in cursor:\n",
    "    print(doc)"
   ]
  },
  {
   "cell_type": "code",
   "execution_count": 19,
   "id": "4a59f56b-dd15-49ce-975f-14a59196991b",
   "metadata": {},
   "outputs": [],
   "source": [
    "#*************************************************************************************\n",
    "#LOGIC FOR THE MODEL IS HERE\n",
    "#*************************************************************************************"
   ]
  },
  {
   "cell_type": "code",
   "execution_count": 20,
   "id": "a177021d-7259-41e4-8790-78a8cf6ec901",
   "metadata": {},
   "outputs": [],
   "source": [
    "import pymongo\n",
    "\n",
    "# Connect to MongoDB\n",
    "client = pymongo.MongoClient('localhost', 27017)\n",
    "db = client['Spotify']\n",
    "collection = db['Standarized_Data']\n",
    "\n",
    "# Fetch data from MongoDB\n",
    "data = list(collection.find({}))  # Assuming you want to fetch all documents\n"
   ]
  },
  {
   "cell_type": "code",
   "execution_count": 21,
   "id": "430ded8b-6faf-491d-83d7-f32ad92c87fd",
   "metadata": {},
   "outputs": [
    {
     "data": {
      "text/html": [
       "<style>#sk-container-id-1 {color: black;background-color: white;}#sk-container-id-1 pre{padding: 0;}#sk-container-id-1 div.sk-toggleable {background-color: white;}#sk-container-id-1 label.sk-toggleable__label {cursor: pointer;display: block;width: 100%;margin-bottom: 0;padding: 0.3em;box-sizing: border-box;text-align: center;}#sk-container-id-1 label.sk-toggleable__label-arrow:before {content: \"▸\";float: left;margin-right: 0.25em;color: #696969;}#sk-container-id-1 label.sk-toggleable__label-arrow:hover:before {color: black;}#sk-container-id-1 div.sk-estimator:hover label.sk-toggleable__label-arrow:before {color: black;}#sk-container-id-1 div.sk-toggleable__content {max-height: 0;max-width: 0;overflow: hidden;text-align: left;background-color: #f0f8ff;}#sk-container-id-1 div.sk-toggleable__content pre {margin: 0.2em;color: black;border-radius: 0.25em;background-color: #f0f8ff;}#sk-container-id-1 input.sk-toggleable__control:checked~div.sk-toggleable__content {max-height: 200px;max-width: 100%;overflow: auto;}#sk-container-id-1 input.sk-toggleable__control:checked~label.sk-toggleable__label-arrow:before {content: \"▾\";}#sk-container-id-1 div.sk-estimator input.sk-toggleable__control:checked~label.sk-toggleable__label {background-color: #d4ebff;}#sk-container-id-1 div.sk-label input.sk-toggleable__control:checked~label.sk-toggleable__label {background-color: #d4ebff;}#sk-container-id-1 input.sk-hidden--visually {border: 0;clip: rect(1px 1px 1px 1px);clip: rect(1px, 1px, 1px, 1px);height: 1px;margin: -1px;overflow: hidden;padding: 0;position: absolute;width: 1px;}#sk-container-id-1 div.sk-estimator {font-family: monospace;background-color: #f0f8ff;border: 1px dotted black;border-radius: 0.25em;box-sizing: border-box;margin-bottom: 0.5em;}#sk-container-id-1 div.sk-estimator:hover {background-color: #d4ebff;}#sk-container-id-1 div.sk-parallel-item::after {content: \"\";width: 100%;border-bottom: 1px solid gray;flex-grow: 1;}#sk-container-id-1 div.sk-label:hover label.sk-toggleable__label {background-color: #d4ebff;}#sk-container-id-1 div.sk-serial::before {content: \"\";position: absolute;border-left: 1px solid gray;box-sizing: border-box;top: 0;bottom: 0;left: 50%;z-index: 0;}#sk-container-id-1 div.sk-serial {display: flex;flex-direction: column;align-items: center;background-color: white;padding-right: 0.2em;padding-left: 0.2em;position: relative;}#sk-container-id-1 div.sk-item {position: relative;z-index: 1;}#sk-container-id-1 div.sk-parallel {display: flex;align-items: stretch;justify-content: center;background-color: white;position: relative;}#sk-container-id-1 div.sk-item::before, #sk-container-id-1 div.sk-parallel-item::before {content: \"\";position: absolute;border-left: 1px solid gray;box-sizing: border-box;top: 0;bottom: 0;left: 50%;z-index: -1;}#sk-container-id-1 div.sk-parallel-item {display: flex;flex-direction: column;z-index: 1;position: relative;background-color: white;}#sk-container-id-1 div.sk-parallel-item:first-child::after {align-self: flex-end;width: 50%;}#sk-container-id-1 div.sk-parallel-item:last-child::after {align-self: flex-start;width: 50%;}#sk-container-id-1 div.sk-parallel-item:only-child::after {width: 0;}#sk-container-id-1 div.sk-dashed-wrapped {border: 1px dashed gray;margin: 0 0.4em 0.5em 0.4em;box-sizing: border-box;padding-bottom: 0.4em;background-color: white;}#sk-container-id-1 div.sk-label label {font-family: monospace;font-weight: bold;display: inline-block;line-height: 1.2em;}#sk-container-id-1 div.sk-label-container {text-align: center;}#sk-container-id-1 div.sk-container {/* jupyter's `normalize.less` sets `[hidden] { display: none; }` but bootstrap.min.css set `[hidden] { display: none !important; }` so we also need the `!important` here to be able to override the default hidden behavior on the sphinx rendered scikit-learn.org. See: https://github.com/scikit-learn/scikit-learn/issues/21755 */display: inline-block !important;position: relative;}#sk-container-id-1 div.sk-text-repr-fallback {display: none;}</style><div id=\"sk-container-id-1\" class=\"sk-top-container\"><div class=\"sk-text-repr-fallback\"><pre>NearestNeighbors()</pre><b>In a Jupyter environment, please rerun this cell to show the HTML representation or trust the notebook. <br />On GitHub, the HTML representation is unable to render, please try loading this page with nbviewer.org.</b></div><div class=\"sk-container\" hidden><div class=\"sk-item\"><div class=\"sk-estimator sk-toggleable\"><input class=\"sk-toggleable__control sk-hidden--visually\" id=\"sk-estimator-id-1\" type=\"checkbox\" checked><label for=\"sk-estimator-id-1\" class=\"sk-toggleable__label sk-toggleable__label-arrow\">NearestNeighbors</label><div class=\"sk-toggleable__content\"><pre>NearestNeighbors()</pre></div></div></div></div></div>"
      ],
      "text/plain": [
       "NearestNeighbors()"
      ]
     },
     "execution_count": 21,
     "metadata": {},
     "output_type": "execute_result"
    }
   ],
   "source": [
    "import pymongo\n",
    "from sklearn.model_selection import train_test_split\n",
    "from sklearn.neighbors import NearestNeighbors\n",
    "\n",
    "# Connect to MongoDB\n",
    "client = pymongo.MongoClient('localhost', 27017)\n",
    "db = client['Spotify']\n",
    "collection = db['Standarized_Data']\n",
    "\n",
    "# Fetch data from MongoDB\n",
    "data = list(collection.find({}))\n",
    "\n",
    "# Example preprocessing (adapt this based on your data structure)\n",
    "# Assuming 'feature_0', 'feature_1', ..., 'feature_19' are the features in your data\n",
    "X = [[doc[f'feature_{i}'] for i in range(20)] for doc in data]\n",
    "y = [doc['track_id'] for doc in data]  # Assuming 'track_id' is the label\n",
    "\n",
    "# Split data into training and testing sets\n",
    "X_train, X_test, y_train, y_test = train_test_split(X, y, test_size=0.2, random_state=42)\n",
    "\n",
    "# Example model training (using Nearest Neighbors for illustration)\n",
    "model = NearestNeighbors(n_neighbors=5)\n",
    "model.fit(X_train)"
   ]
  },
  {
   "cell_type": "code",
   "execution_count": 41,
   "id": "f2e69d84-5934-4fb1-a33e-677c8768b5d7",
   "metadata": {},
   "outputs": [
    {
     "name": "stdout",
     "output_type": "stream",
     "text": [
      "Nearest Neighbors Distances: [[119.84335801 120.38523727 120.39451669 120.51452467 120.65718176]]\n",
      "Nearest Neighbors Indices: [[27 90  4 51  6]]\n"
     ]
    }
   ],
   "source": [
    "# Example: Finding nearest neighbors for a new data point\n",
    "new_data_point = [[-86.1976318359375, 74.65554809570312, -28.09486961364746, 30.765316009521484, -1.3875579833984375, 0.3231120705604553, -0.6766191720962524, -1.97642183303833, 3.4581573009490967, 8.081879615783691, -7.772451877593994, 0.8797167539596558, -3.4357964992523193, 3.6181769371032715, -3.843193292617798, 3.2451012134552, -2.3050453662872314, 2.5624656677246094, -6.980132102966309, 0.5819810628890991]\n",
    "]  # Replace with actual feature values\n",
    "distances, indices = model.kneighbors(new_data_point)\n",
    "print(\"Nearest Neighbors Distances:\", distances)\n",
    "print(\"Nearest Neighbors Indices:\", indices)\n"
   ]
  },
  {
   "cell_type": "code",
   "execution_count": 31,
   "id": "3a283e02-9b9d-49f0-bd40-400a80fe7b34",
   "metadata": {},
   "outputs": [
    {
     "name": "stdout",
     "output_type": "stream",
     "text": [
      "Collecting pydubNote: you may need to restart the kernel to use updated packages.\n",
      "\n",
      "  Downloading pydub-0.25.1-py2.py3-none-any.whl.metadata (1.4 kB)\n",
      "Collecting librosa\n",
      "  Using cached librosa-0.10.2-py3-none-any.whl.metadata (8.6 kB)\n",
      "Collecting audioread>=2.1.9 (from librosa)\n",
      "  Using cached audioread-3.0.1-py3-none-any.whl.metadata (8.4 kB)\n",
      "Requirement already satisfied: numpy!=1.22.0,!=1.22.1,!=1.22.2,>=1.20.3 in d:\\anaconda\\lib\\site-packages (from librosa) (1.26.4)\n",
      "Requirement already satisfied: scipy>=1.2.0 in d:\\anaconda\\lib\\site-packages (from librosa) (1.11.4)\n",
      "Requirement already satisfied: scikit-learn>=0.20.0 in d:\\anaconda\\lib\\site-packages (from librosa) (1.2.2)\n",
      "Requirement already satisfied: joblib>=0.14 in d:\\anaconda\\lib\\site-packages (from librosa) (1.2.0)\n",
      "Requirement already satisfied: decorator>=4.3.0 in c:\\users\\hp\\appdata\\roaming\\python\\python311\\site-packages (from librosa) (5.1.1)\n",
      "Requirement already satisfied: numba>=0.51.0 in d:\\anaconda\\lib\\site-packages (from librosa) (0.59.0)\n",
      "Collecting soundfile>=0.12.1 (from librosa)\n",
      "  Using cached soundfile-0.12.1-py2.py3-none-win_amd64.whl.metadata (14 kB)\n",
      "Collecting pooch>=1.1 (from librosa)\n",
      "  Using cached pooch-1.8.1-py3-none-any.whl.metadata (9.5 kB)\n",
      "Collecting soxr>=0.3.2 (from librosa)\n",
      "  Using cached soxr-0.3.7-cp311-cp311-win_amd64.whl.metadata (5.7 kB)\n",
      "Requirement already satisfied: typing-extensions>=4.1.1 in d:\\anaconda\\lib\\site-packages (from librosa) (4.9.0)\n",
      "Requirement already satisfied: lazy-loader>=0.1 in d:\\anaconda\\lib\\site-packages (from librosa) (0.3)\n",
      "Requirement already satisfied: msgpack>=1.0 in d:\\anaconda\\lib\\site-packages (from librosa) (1.0.3)\n",
      "Requirement already satisfied: llvmlite<0.43,>=0.42.0dev0 in d:\\anaconda\\lib\\site-packages (from numba>=0.51.0->librosa) (0.42.0)\n",
      "Requirement already satisfied: platformdirs>=2.5.0 in c:\\users\\hp\\appdata\\roaming\\python\\python311\\site-packages (from pooch>=1.1->librosa) (4.2.0)\n",
      "Requirement already satisfied: packaging>=20.0 in c:\\users\\hp\\appdata\\roaming\\python\\python311\\site-packages (from pooch>=1.1->librosa) (24.0)\n",
      "Requirement already satisfied: requests>=2.19.0 in d:\\anaconda\\lib\\site-packages (from pooch>=1.1->librosa) (2.31.0)\n",
      "Requirement already satisfied: threadpoolctl>=2.0.0 in d:\\anaconda\\lib\\site-packages (from scikit-learn>=0.20.0->librosa) (2.2.0)\n",
      "Requirement already satisfied: cffi>=1.0 in d:\\anaconda\\lib\\site-packages (from soundfile>=0.12.1->librosa) (1.16.0)\n",
      "Requirement already satisfied: pycparser in d:\\anaconda\\lib\\site-packages (from cffi>=1.0->soundfile>=0.12.1->librosa) (2.21)\n",
      "Requirement already satisfied: charset-normalizer<4,>=2 in d:\\anaconda\\lib\\site-packages (from requests>=2.19.0->pooch>=1.1->librosa) (2.0.4)\n",
      "Requirement already satisfied: idna<4,>=2.5 in d:\\anaconda\\lib\\site-packages (from requests>=2.19.0->pooch>=1.1->librosa) (3.4)\n",
      "Requirement already satisfied: urllib3<3,>=1.21.1 in d:\\anaconda\\lib\\site-packages (from requests>=2.19.0->pooch>=1.1->librosa) (2.0.7)\n",
      "Requirement already satisfied: certifi>=2017.4.17 in d:\\anaconda\\lib\\site-packages (from requests>=2.19.0->pooch>=1.1->librosa) (2024.2.2)\n",
      "Downloading pydub-0.25.1-py2.py3-none-any.whl (32 kB)\n",
      "Using cached librosa-0.10.2-py3-none-any.whl (260 kB)\n",
      "Using cached audioread-3.0.1-py3-none-any.whl (23 kB)\n",
      "Using cached pooch-1.8.1-py3-none-any.whl (62 kB)\n",
      "Using cached soundfile-0.12.1-py2.py3-none-win_amd64.whl (1.0 MB)\n",
      "Using cached soxr-0.3.7-cp311-cp311-win_amd64.whl (184 kB)\n",
      "Installing collected packages: pydub, soxr, audioread, soundfile, pooch, librosa\n",
      "Successfully installed audioread-3.0.1 librosa-0.10.2 pooch-1.8.1 pydub-0.25.1 soundfile-0.12.1 soxr-0.3.7\n"
     ]
    }
   ],
   "source": [
    "pip install pydub librosa"
   ]
  },
  {
   "cell_type": "code",
   "execution_count": 37,
   "id": "d17ca6a3-4f27-48d7-99a1-e6576fc76e9c",
   "metadata": {},
   "outputs": [
    {
     "name": "stdout",
     "output_type": "stream",
     "text": [
      "Extracted features: [0, '000139', -86.1976318359375, 74.65554809570312, -28.09486961364746, 30.765316009521484, -1.3875579833984375, 0.3231120705604553, -0.6766191720962524, -1.97642183303833, 3.4581573009490967, 8.081879615783691, -7.772451877593994, 0.8797167539596558, -3.4357964992523193, 3.6181769371032715, -3.843193292617798, 3.2451012134552, -2.3050453662872314, 2.5624656677246094, -6.980132102966309, 0.5819810628890991]\n"
     ]
    }
   ],
   "source": [
    "import librosa\n",
    "import pandas as pd\n",
    "\n",
    "# Define the path to your MP3 file\n",
    "audio_path = '000139.mp3'\n",
    "# Extract track ID from the filename (assuming it's the part before the first underscore)\n",
    "track_id = os.path.basename(audio_path).split('.')[0]  # Assuming track ID is before the extension\n",
    "# Load audio file\n",
    "y, sr = librosa.load(audio_path)\n",
    "# Extract MFCC features\n",
    "mfccs = librosa.feature.mfcc(y=y, sr=sr, n_mfcc=20)\n",
    "# Calculate mean of MFCC features\n",
    "mfccs_mean = mfccs.mean(axis=1)\n",
    "# Create a list with directory name, track ID, and extracted features\n",
    "extracted_features = [0, track_id] + mfccs_mean.tolist()\n",
    "print(\"Extracted features:\", extracted_features)\n"
   ]
  },
  {
   "cell_type": "code",
   "execution_count": 42,
   "id": "f7904ab8-2a8e-47a5-91a5-ae6ffc5eeea4",
   "metadata": {},
   "outputs": [
    {
     "name": "stdout",
     "output_type": "stream",
     "text": [
      "Extracted features without directory name and track ID: [[-86.1976318359375, 74.65554809570312, -28.09486961364746, 30.765316009521484, -1.3875579833984375, 0.3231120705604553, -0.6766191720962524, -1.97642183303833, 3.4581573009490967, 8.081879615783691, -7.772451877593994, 0.8797167539596558, -3.4357964992523193, 3.6181769371032715, -3.843193292617798, 3.2451012134552, -2.3050453662872314, 2.5624656677246094, -6.980132102966309, 0.5819810628890991]]\n"
     ]
    }
   ],
   "source": [
    "extracted_features_without_id = [extracted_features[2:]]\n",
    "print(\"Extracted features without directory name and track ID:\", extracted_features_without_id)\n"
   ]
  },
  {
   "cell_type": "code",
   "execution_count": 43,
   "id": "804205a5-a9f7-4a66-9cc2-7e972a2a6cf7",
   "metadata": {},
   "outputs": [
    {
     "name": "stdout",
     "output_type": "stream",
     "text": [
      "Nearest Neighbors Distances: [[119.84335801 120.38523727 120.39451669 120.51452467 120.65718176]]\n",
      "Nearest Neighbors Indices: [[27 90  4 51  6]]\n"
     ]
    }
   ],
   "source": [
    "# Example: Finding nearest neighbors for a new data point\n",
    "new_data_point = extracted_features_without_id\n",
    "distances, indices = model.kneighbors(extracted_features_without_id)\n",
    "print(\"Nearest Neighbors Distances:\", distances)\n",
    "print(\"Nearest Neighbors Indices:\", indices)\n"
   ]
  },
  {
   "cell_type": "code",
   "execution_count": null,
   "id": "54839cd0-3e12-477f-864a-bd91737b3d8b",
   "metadata": {},
   "outputs": [],
   "source": [
    "#******************************************************************************************************\n",
    "#FINAL CODE FOR THE GENERATION OF EXTRACTED FEATURES OF THE MP3 FILE\n",
    "#******************************************************************************************************"
   ]
  },
  {
   "cell_type": "code",
   "execution_count": 44,
   "id": "c9160ddd-5e4b-421c-8ba1-e8ac6ea1b519",
   "metadata": {},
   "outputs": [
    {
     "name": "stdout",
     "output_type": "stream",
     "text": [
      "Nearest Neighbors Distances: [[119.84335801 120.38523727 120.39451669 120.51452467 120.65718176]]\n",
      "Nearest Neighbors Indices: [[27 90  4 51  6]]\n"
     ]
    }
   ],
   "source": [
    "import librosa\n",
    "import pandas as pd\n",
    "\n",
    "# Define the path to your MP3 file\n",
    "audio_path = '000139.mp3'\n",
    "# Extract track ID from the filename (assuming it's the part before the first underscore)\n",
    "track_id = os.path.basename(audio_path).split('.')[0]  # Assuming track ID is before the extension\n",
    "# Load audio file\n",
    "y, sr = librosa.load(audio_path)\n",
    "# Extract MFCC features\n",
    "mfccs = librosa.feature.mfcc(y=y, sr=sr, n_mfcc=20)\n",
    "# Calculate mean of MFCC features\n",
    "mfccs_mean = mfccs.mean(axis=1)\n",
    "# Create a list with directory name, track ID, and extracted features\n",
    "extracted_features = [0, track_id] + mfccs_mean.tolist()\n",
    "#print(\"Extracted features:\", extracted_features)\n",
    "extracted_features_without_id = [extracted_features[2:]]\n",
    "#print(\"Extracted features without directory name and track ID:\", extracted_features_without_id)\n",
    "# Example: Finding nearest neighbors for a new data point\n",
    "new_data_point = extracted_features_without_id\n",
    "distances, indices = model.kneighbors(extracted_features_without_id)\n",
    "print(\"Nearest Neighbors Distances:\", distances)\n",
    "print(\"Nearest Neighbors Indices:\", indices)"
   ]
  },
  {
   "cell_type": "code",
   "execution_count": 45,
   "id": "24886744-4de5-48af-818b-d4e753d2ba64",
   "metadata": {},
   "outputs": [
    {
     "name": "stdout",
     "output_type": "stream",
     "text": [
      "   directory_name  track_id  feature_0  feature_1  feature_2  feature_3  \\\n",
      "0               0       714   0.051095   0.494873   0.673635   1.219426   \n",
      "1               0       706   0.953554  -1.450975   1.108514  -0.197349   \n",
      "2               0       695   0.707428  -0.990767  -0.082968  -0.804883   \n",
      "3               0       853  -0.145369   1.366110  -1.607740  -0.030232   \n",
      "4               0       995   1.916917  -0.802615  -0.765735  -1.048891   \n",
      "\n",
      "   feature_4  feature_5  feature_6  feature_7  ...  feature_10  feature_11  \\\n",
      "0   0.685068  -1.510758   1.598317  -1.052215  ...    1.862039    0.723812   \n",
      "1   0.261878   0.883084  -0.760622   0.679570  ...    1.560620    0.056154   \n",
      "2  -0.119144   0.525776   1.557907   0.392755  ...    1.204280    1.660686   \n",
      "3  -1.767973   0.050779  -1.923429  -1.431014  ...   -0.264492   -2.504040   \n",
      "4  -0.665700   0.312949   0.458818   0.605662  ...   -0.146309   -0.216209   \n",
      "\n",
      "   feature_12  feature_13  feature_14  feature_15  feature_16  feature_17  \\\n",
      "0   -0.255129   -0.690262   -0.627069   -1.256234   -1.379345   -1.006547   \n",
      "1    0.418244    1.355928   -0.252040    0.799080    0.812350   -0.883312   \n",
      "2    1.628640    1.007136    0.732309    0.975273    0.615999    0.550952   \n",
      "3   -2.513985   -0.583307   -1.480308   -1.424894   -0.619472   -1.903633   \n",
      "4    0.009293   -0.009311   -0.094696   -0.004481   -0.120643   -0.104223   \n",
      "\n",
      "   feature_18  feature_19  \n",
      "0   -1.128634    0.792305  \n",
      "1    0.689440    0.143050  \n",
      "2    0.419141    1.729046  \n",
      "3   -0.909779   -0.118173  \n",
      "4   -0.307282   -0.134594  \n",
      "\n",
      "[5 rows x 22 columns]\n"
     ]
    }
   ],
   "source": [
    "import pandas as pd\n",
    "\n",
    "# Replace 'your_file.csv' with the path to your CSV file\n",
    "csv_file_path = 'Standarized_Data.csv'\n",
    "# Read the CSV file into a DataFrame\n",
    "df = pd.read_csv(csv_file_path)\n",
    "# Display the first few rows of the DataFrame\n",
    "print(df.head())"
   ]
  },
  {
   "cell_type": "code",
   "execution_count": 46,
   "id": "7c4f7bdb-ee33-4142-9461-5dfdc4ce6621",
   "metadata": {},
   "outputs": [
    {
     "name": "stdout",
     "output_type": "stream",
     "text": [
      "Neighbor Info: [(0, 546), (1, 1642), (0, 995), (0, 212), (0, 255)]\n"
     ]
    }
   ],
   "source": [
    "\n",
    "# Nearest neighbors indices array\n",
    "nearest_neighbors_indices = [[27, 90, 4, 51, 6]]\n",
    "# Initialize an empty list to store directory name and song name tuples\n",
    "neighbor_info = []\n",
    "# Loop through each row index in the nearest neighbors indices array\n",
    "for indices_row in nearest_neighbors_indices:\n",
    "    # Loop through each index in the row\n",
    "    for index in indices_row:\n",
    "        # Get the values from the 0th and 1st columns at the specified index\n",
    "        directory_name = df.iloc[index, 0]\n",
    "        song_name = df.iloc[index, 1]  # Assuming the second column contains song names\n",
    "        # Append a tuple containing directory name and song name to the neighbor_info list\n",
    "        neighbor_info.append((directory_name, song_name))\n",
    "\n",
    "# Print the neighbor info\n",
    "print(\"Neighbor Info:\", neighbor_info)"
   ]
  },
  {
   "cell_type": "code",
   "execution_count": null,
   "id": "bafa096f-0138-4d44-8fd6-f738a841a27d",
   "metadata": {},
   "outputs": [],
   "source": []
  }
 ],
 "metadata": {
  "kernelspec": {
   "display_name": "Python 3 (ipykernel)",
   "language": "python",
   "name": "python3"
  },
  "language_info": {
   "codemirror_mode": {
    "name": "ipython",
    "version": 3
   },
   "file_extension": ".py",
   "mimetype": "text/x-python",
   "name": "python",
   "nbconvert_exporter": "python",
   "pygments_lexer": "ipython3",
   "version": "3.11.7"
  }
 },
 "nbformat": 4,
 "nbformat_minor": 5
}
